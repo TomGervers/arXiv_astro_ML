{
  "nbformat": 4,
  "nbformat_minor": 0,
  "metadata": {
    "colab": {
      "provenance": [],
      "collapsed_sections": [
        "Sybue4AmPP5J",
        "8397wa5SIvNg",
        "fvTjRwDwLaYu",
        "qBAY5kjxL3aL",
        "8Q5M3C3LO0F2",
        "adMlVqzRtFa5",
        "Uwe-od5JtLp7",
        "enjf_liYIzMs",
        "ecWwQuR73Rrf",
        "ONuxtA1wq5yw",
        "dVp32C7dRQJg",
        "u-Zz-_VDhFug",
        "8NuMR5yGj3ec",
        "6DpdczuGqxDQ",
        "1ihbIuC17hnH",
        "ghU2rTo83YeW",
        "B_Bz_j_PyOLL",
        "jGDXYgak46oz",
        "TpYX9nWA3XEF",
        "g9qbi7lOGGoa",
        "ioyjFj5-GQWi",
        "gCTnKLu4GVcr",
        "9GaCPAfXGl6_",
        "KFDi1TO8HT1t",
        "pUG4ZMMgyIqN"
      ],
      "mount_file_id": "18g-5b4Tqb8osomaALnoymyRcb5EUNokO",
      "authorship_tag": "ABX9TyO48NnJk3gb0ruFulPEMmeY",
      "include_colab_link": true
    },
    "kernelspec": {
      "name": "python3",
      "display_name": "Python 3"
    },
    "language_info": {
      "name": "python"
    }
  },
  "cells": [
    {
      "cell_type": "markdown",
      "metadata": {
        "id": "view-in-github",
        "colab_type": "text"
      },
      "source": [
        "<a href=\"https://colab.research.google.com/github/TomGervers/arXiv_astro_ML/blob/main/arXiv_exploration.ipynb\" target=\"_parent\"><img src=\"https://colab.research.google.com/assets/colab-badge.svg\" alt=\"Open In Colab\"/></a>"
      ]
    },
    {
      "cell_type": "markdown",
      "source": [
        "#General imports"
      ],
      "metadata": {
        "id": "Sybue4AmPP5J"
      }
    },
    {
      "cell_type": "code",
      "source": [
        "import pandas as pd\n",
        "import numpy as np\n",
        "import json\n",
        "import datetime\n",
        "import matplotlib.pyplot as plt\n",
        "from matplotlib.ticker import MultipleLocator\n",
        "import seaborn as sns\n",
        "import re\n",
        "from ast import literal_eval"
      ],
      "metadata": {
        "id": "jaRkdHw3PSrM"
      },
      "execution_count": null,
      "outputs": []
    },
    {
      "cell_type": "markdown",
      "source": [
        "# Download and prepare the dataset"
      ],
      "metadata": {
        "id": "8397wa5SIvNg"
      }
    },
    {
      "cell_type": "markdown",
      "source": [
        "###Use the following if you want to download the latest version of the dataset."
      ],
      "metadata": {
        "id": "fvTjRwDwLaYu"
      }
    },
    {
      "cell_type": "markdown",
      "source": [
        "Install the Kaggle api."
      ],
      "metadata": {
        "id": "39h94iLd2Idm"
      }
    },
    {
      "cell_type": "code",
      "execution_count": null,
      "metadata": {
        "id": "cpqymgZUzocV"
      },
      "outputs": [],
      "source": [
        "!pip install -q kaggle"
      ]
    },
    {
      "cell_type": "markdown",
      "source": [
        "This will prompt the user to upload a file. The file uploaded should be the kaggle.json file containing information about their Kaggle API key, this is available under the API heading at: https://www.kaggle.com/settings/account"
      ],
      "metadata": {
        "id": "5sh8xHKG1ogi"
      }
    },
    {
      "cell_type": "code",
      "source": [
        "from google.colab import files\n",
        "files.upload()"
      ],
      "metadata": {
        "colab": {
          "base_uri": "https://localhost:8080/",
          "height": 90
        },
        "id": "ejjkshCn0ByL",
        "outputId": "9370e99a-2217-4c82-8fcb-756b28e52741"
      },
      "execution_count": null,
      "outputs": [
        {
          "output_type": "display_data",
          "data": {
            "text/plain": [
              "<IPython.core.display.HTML object>"
            ],
            "text/html": [
              "\n",
              "     <input type=\"file\" id=\"files-cb12257c-e6b9-411a-9332-02f85c20f29c\" name=\"files[]\" multiple disabled\n",
              "        style=\"border:none\" />\n",
              "     <output id=\"result-cb12257c-e6b9-411a-9332-02f85c20f29c\">\n",
              "      Upload widget is only available when the cell has been executed in the\n",
              "      current browser session. Please rerun this cell to enable.\n",
              "      </output>\n",
              "      <script>// Copyright 2017 Google LLC\n",
              "//\n",
              "// Licensed under the Apache License, Version 2.0 (the \"License\");\n",
              "// you may not use this file except in compliance with the License.\n",
              "// You may obtain a copy of the License at\n",
              "//\n",
              "//      http://www.apache.org/licenses/LICENSE-2.0\n",
              "//\n",
              "// Unless required by applicable law or agreed to in writing, software\n",
              "// distributed under the License is distributed on an \"AS IS\" BASIS,\n",
              "// WITHOUT WARRANTIES OR CONDITIONS OF ANY KIND, either express or implied.\n",
              "// See the License for the specific language governing permissions and\n",
              "// limitations under the License.\n",
              "\n",
              "/**\n",
              " * @fileoverview Helpers for google.colab Python module.\n",
              " */\n",
              "(function(scope) {\n",
              "function span(text, styleAttributes = {}) {\n",
              "  const element = document.createElement('span');\n",
              "  element.textContent = text;\n",
              "  for (const key of Object.keys(styleAttributes)) {\n",
              "    element.style[key] = styleAttributes[key];\n",
              "  }\n",
              "  return element;\n",
              "}\n",
              "\n",
              "// Max number of bytes which will be uploaded at a time.\n",
              "const MAX_PAYLOAD_SIZE = 100 * 1024;\n",
              "\n",
              "function _uploadFiles(inputId, outputId) {\n",
              "  const steps = uploadFilesStep(inputId, outputId);\n",
              "  const outputElement = document.getElementById(outputId);\n",
              "  // Cache steps on the outputElement to make it available for the next call\n",
              "  // to uploadFilesContinue from Python.\n",
              "  outputElement.steps = steps;\n",
              "\n",
              "  return _uploadFilesContinue(outputId);\n",
              "}\n",
              "\n",
              "// This is roughly an async generator (not supported in the browser yet),\n",
              "// where there are multiple asynchronous steps and the Python side is going\n",
              "// to poll for completion of each step.\n",
              "// This uses a Promise to block the python side on completion of each step,\n",
              "// then passes the result of the previous step as the input to the next step.\n",
              "function _uploadFilesContinue(outputId) {\n",
              "  const outputElement = document.getElementById(outputId);\n",
              "  const steps = outputElement.steps;\n",
              "\n",
              "  const next = steps.next(outputElement.lastPromiseValue);\n",
              "  return Promise.resolve(next.value.promise).then((value) => {\n",
              "    // Cache the last promise value to make it available to the next\n",
              "    // step of the generator.\n",
              "    outputElement.lastPromiseValue = value;\n",
              "    return next.value.response;\n",
              "  });\n",
              "}\n",
              "\n",
              "/**\n",
              " * Generator function which is called between each async step of the upload\n",
              " * process.\n",
              " * @param {string} inputId Element ID of the input file picker element.\n",
              " * @param {string} outputId Element ID of the output display.\n",
              " * @return {!Iterable<!Object>} Iterable of next steps.\n",
              " */\n",
              "function* uploadFilesStep(inputId, outputId) {\n",
              "  const inputElement = document.getElementById(inputId);\n",
              "  inputElement.disabled = false;\n",
              "\n",
              "  const outputElement = document.getElementById(outputId);\n",
              "  outputElement.innerHTML = '';\n",
              "\n",
              "  const pickedPromise = new Promise((resolve) => {\n",
              "    inputElement.addEventListener('change', (e) => {\n",
              "      resolve(e.target.files);\n",
              "    });\n",
              "  });\n",
              "\n",
              "  const cancel = document.createElement('button');\n",
              "  inputElement.parentElement.appendChild(cancel);\n",
              "  cancel.textContent = 'Cancel upload';\n",
              "  const cancelPromise = new Promise((resolve) => {\n",
              "    cancel.onclick = () => {\n",
              "      resolve(null);\n",
              "    };\n",
              "  });\n",
              "\n",
              "  // Wait for the user to pick the files.\n",
              "  const files = yield {\n",
              "    promise: Promise.race([pickedPromise, cancelPromise]),\n",
              "    response: {\n",
              "      action: 'starting',\n",
              "    }\n",
              "  };\n",
              "\n",
              "  cancel.remove();\n",
              "\n",
              "  // Disable the input element since further picks are not allowed.\n",
              "  inputElement.disabled = true;\n",
              "\n",
              "  if (!files) {\n",
              "    return {\n",
              "      response: {\n",
              "        action: 'complete',\n",
              "      }\n",
              "    };\n",
              "  }\n",
              "\n",
              "  for (const file of files) {\n",
              "    const li = document.createElement('li');\n",
              "    li.append(span(file.name, {fontWeight: 'bold'}));\n",
              "    li.append(span(\n",
              "        `(${file.type || 'n/a'}) - ${file.size} bytes, ` +\n",
              "        `last modified: ${\n",
              "            file.lastModifiedDate ? file.lastModifiedDate.toLocaleDateString() :\n",
              "                                    'n/a'} - `));\n",
              "    const percent = span('0% done');\n",
              "    li.appendChild(percent);\n",
              "\n",
              "    outputElement.appendChild(li);\n",
              "\n",
              "    const fileDataPromise = new Promise((resolve) => {\n",
              "      const reader = new FileReader();\n",
              "      reader.onload = (e) => {\n",
              "        resolve(e.target.result);\n",
              "      };\n",
              "      reader.readAsArrayBuffer(file);\n",
              "    });\n",
              "    // Wait for the data to be ready.\n",
              "    let fileData = yield {\n",
              "      promise: fileDataPromise,\n",
              "      response: {\n",
              "        action: 'continue',\n",
              "      }\n",
              "    };\n",
              "\n",
              "    // Use a chunked sending to avoid message size limits. See b/62115660.\n",
              "    let position = 0;\n",
              "    do {\n",
              "      const length = Math.min(fileData.byteLength - position, MAX_PAYLOAD_SIZE);\n",
              "      const chunk = new Uint8Array(fileData, position, length);\n",
              "      position += length;\n",
              "\n",
              "      const base64 = btoa(String.fromCharCode.apply(null, chunk));\n",
              "      yield {\n",
              "        response: {\n",
              "          action: 'append',\n",
              "          file: file.name,\n",
              "          data: base64,\n",
              "        },\n",
              "      };\n",
              "\n",
              "      let percentDone = fileData.byteLength === 0 ?\n",
              "          100 :\n",
              "          Math.round((position / fileData.byteLength) * 100);\n",
              "      percent.textContent = `${percentDone}% done`;\n",
              "\n",
              "    } while (position < fileData.byteLength);\n",
              "  }\n",
              "\n",
              "  // All done.\n",
              "  yield {\n",
              "    response: {\n",
              "      action: 'complete',\n",
              "    }\n",
              "  };\n",
              "}\n",
              "\n",
              "scope.google = scope.google || {};\n",
              "scope.google.colab = scope.google.colab || {};\n",
              "scope.google.colab._files = {\n",
              "  _uploadFiles,\n",
              "  _uploadFilesContinue,\n",
              "};\n",
              "})(self);\n",
              "</script> "
            ]
          },
          "metadata": {}
        },
        {
          "output_type": "stream",
          "name": "stdout",
          "text": [
            "Saving kaggle.json to kaggle.json\n"
          ]
        },
        {
          "output_type": "execute_result",
          "data": {
            "text/plain": [
              "{'kaggle.json': b'{\"username\":\"tomgeeee\",\"key\":\"9b00fb8914de3d63b6eb34bbfbd21ce5\"}'}"
            ]
          },
          "metadata": {},
          "execution_count": 88
        }
      ]
    },
    {
      "cell_type": "markdown",
      "source": [
        "Remove if exists and then create a Kaggle folder which the kaggle.json file is then moved to."
      ],
      "metadata": {
        "id": "NFyNpYv32Mt2"
      }
    },
    {
      "cell_type": "code",
      "source": [
        "!rm -r ~/.kaggle\n",
        "!mkdir ~/.kaggle\n",
        "!mv ./kaggle.json ~/.kaggle/\n",
        "!chmod 600 ~/.kaggle/kaggle.json"
      ],
      "metadata": {
        "id": "GVb784gb0K32",
        "colab": {
          "base_uri": "https://localhost:8080/"
        },
        "outputId": "c9f43818-0e1f-4436-80b4-9bf1257334c1"
      },
      "execution_count": null,
      "outputs": [
        {
          "output_type": "stream",
          "name": "stdout",
          "text": [
            "rm: cannot remove '/root/.kaggle': No such file or directory\n"
          ]
        }
      ]
    },
    {
      "cell_type": "markdown",
      "source": [
        "Download the arXiv dataset from Kaggle."
      ],
      "metadata": {
        "id": "q-HkU1sI2UHu"
      }
    },
    {
      "cell_type": "code",
      "source": [
        "!kaggle datasets download -d Cornell-University/arxiv"
      ],
      "metadata": {
        "colab": {
          "base_uri": "https://localhost:8080/"
        },
        "id": "S8bpwyNm0XbN",
        "outputId": "9521ca28-a2db-41e3-d637-552e91107ea9"
      },
      "execution_count": null,
      "outputs": [
        {
          "output_type": "stream",
          "name": "stdout",
          "text": [
            "Downloading arxiv.zip to /content\n",
            "100% 1.18G/1.18G [00:47<00:00, 27.3MB/s]\n",
            "100% 1.18G/1.18G [00:48<00:00, 26.4MB/s]\n"
          ]
        }
      ]
    },
    {
      "cell_type": "markdown",
      "source": [
        "Remove if exists and then create a dataset folder which the arXiv dataset is unzipped into."
      ],
      "metadata": {
        "id": "fofe3AfD2iVk"
      }
    },
    {
      "cell_type": "code",
      "source": [
        "!rm -r dataset\n",
        "!mkdir dataset\n",
        "\n",
        "!unzip arxiv.zip -d dataset"
      ],
      "metadata": {
        "colab": {
          "base_uri": "https://localhost:8080/"
        },
        "id": "_5JEEpAJ2I2A",
        "outputId": "5f0ea7a9-727b-4208-e826-ae073b230716"
      },
      "execution_count": null,
      "outputs": [
        {
          "output_type": "stream",
          "name": "stdout",
          "text": [
            "rm: cannot remove 'dataset': No such file or directory\n",
            "Archive:  arxiv.zip\n",
            "  inflating: dataset/arxiv-metadata-oai-snapshot.json  \n"
          ]
        }
      ]
    },
    {
      "cell_type": "markdown",
      "source": [
        "###Use these steps if you have a version of the dataset downloaded you wish to upload and use."
      ],
      "metadata": {
        "id": "qBAY5kjxL3aL"
      }
    },
    {
      "cell_type": "markdown",
      "source": [
        "Prompt to upload the file."
      ],
      "metadata": {
        "id": "WUQQuzYmMGwC"
      }
    },
    {
      "cell_type": "code",
      "source": [
        "from google.colab import files\n",
        "files.upload()"
      ],
      "metadata": {
        "id": "TC9iCHdHMFT0"
      },
      "execution_count": null,
      "outputs": []
    },
    {
      "cell_type": "markdown",
      "source": [
        "The file should be uploaded as \"arxiv.zip\"."
      ],
      "metadata": {
        "id": "RhhsBjoJMOs4"
      }
    },
    {
      "cell_type": "code",
      "source": [
        "!rm -r dataset\n",
        "!mkdir dataset\n",
        "\n",
        "!unzip arxiv.zip -d dataset"
      ],
      "metadata": {
        "id": "ZwdXl0FhMGAJ"
      },
      "execution_count": null,
      "outputs": []
    },
    {
      "cell_type": "markdown",
      "source": [
        "###Use these steps if you have already run part (or all) of this notebook already and have a \"papers_df.csv\" you wish to resume from."
      ],
      "metadata": {
        "id": "VsRORqCOMVyV"
      }
    },
    {
      "cell_type": "markdown",
      "source": [
        "####Manual upload method"
      ],
      "metadata": {
        "id": "8Q5M3C3LO0F2"
      }
    },
    {
      "cell_type": "markdown",
      "source": [
        "Prompt to upload the file."
      ],
      "metadata": {
        "id": "ldPkOVgPMnZb"
      }
    },
    {
      "cell_type": "code",
      "source": [
        "from google.colab import files\n",
        "files.upload()"
      ],
      "metadata": {
        "colab": {
          "base_uri": "https://localhost:8080/",
          "height": 366
        },
        "id": "onjHfxuIMjGN",
        "outputId": "99c49af3-f8c4-46d3-886d-2cff28fcd9ac"
      },
      "execution_count": null,
      "outputs": [
        {
          "output_type": "display_data",
          "data": {
            "text/plain": [
              "<IPython.core.display.HTML object>"
            ],
            "text/html": [
              "\n",
              "     <input type=\"file\" id=\"files-1cd009a3-71a8-41de-900d-94ab8da27aef\" name=\"files[]\" multiple disabled\n",
              "        style=\"border:none\" />\n",
              "     <output id=\"result-1cd009a3-71a8-41de-900d-94ab8da27aef\">\n",
              "      Upload widget is only available when the cell has been executed in the\n",
              "      current browser session. Please rerun this cell to enable.\n",
              "      </output>\n",
              "      <script>// Copyright 2017 Google LLC\n",
              "//\n",
              "// Licensed under the Apache License, Version 2.0 (the \"License\");\n",
              "// you may not use this file except in compliance with the License.\n",
              "// You may obtain a copy of the License at\n",
              "//\n",
              "//      http://www.apache.org/licenses/LICENSE-2.0\n",
              "//\n",
              "// Unless required by applicable law or agreed to in writing, software\n",
              "// distributed under the License is distributed on an \"AS IS\" BASIS,\n",
              "// WITHOUT WARRANTIES OR CONDITIONS OF ANY KIND, either express or implied.\n",
              "// See the License for the specific language governing permissions and\n",
              "// limitations under the License.\n",
              "\n",
              "/**\n",
              " * @fileoverview Helpers for google.colab Python module.\n",
              " */\n",
              "(function(scope) {\n",
              "function span(text, styleAttributes = {}) {\n",
              "  const element = document.createElement('span');\n",
              "  element.textContent = text;\n",
              "  for (const key of Object.keys(styleAttributes)) {\n",
              "    element.style[key] = styleAttributes[key];\n",
              "  }\n",
              "  return element;\n",
              "}\n",
              "\n",
              "// Max number of bytes which will be uploaded at a time.\n",
              "const MAX_PAYLOAD_SIZE = 100 * 1024;\n",
              "\n",
              "function _uploadFiles(inputId, outputId) {\n",
              "  const steps = uploadFilesStep(inputId, outputId);\n",
              "  const outputElement = document.getElementById(outputId);\n",
              "  // Cache steps on the outputElement to make it available for the next call\n",
              "  // to uploadFilesContinue from Python.\n",
              "  outputElement.steps = steps;\n",
              "\n",
              "  return _uploadFilesContinue(outputId);\n",
              "}\n",
              "\n",
              "// This is roughly an async generator (not supported in the browser yet),\n",
              "// where there are multiple asynchronous steps and the Python side is going\n",
              "// to poll for completion of each step.\n",
              "// This uses a Promise to block the python side on completion of each step,\n",
              "// then passes the result of the previous step as the input to the next step.\n",
              "function _uploadFilesContinue(outputId) {\n",
              "  const outputElement = document.getElementById(outputId);\n",
              "  const steps = outputElement.steps;\n",
              "\n",
              "  const next = steps.next(outputElement.lastPromiseValue);\n",
              "  return Promise.resolve(next.value.promise).then((value) => {\n",
              "    // Cache the last promise value to make it available to the next\n",
              "    // step of the generator.\n",
              "    outputElement.lastPromiseValue = value;\n",
              "    return next.value.response;\n",
              "  });\n",
              "}\n",
              "\n",
              "/**\n",
              " * Generator function which is called between each async step of the upload\n",
              " * process.\n",
              " * @param {string} inputId Element ID of the input file picker element.\n",
              " * @param {string} outputId Element ID of the output display.\n",
              " * @return {!Iterable<!Object>} Iterable of next steps.\n",
              " */\n",
              "function* uploadFilesStep(inputId, outputId) {\n",
              "  const inputElement = document.getElementById(inputId);\n",
              "  inputElement.disabled = false;\n",
              "\n",
              "  const outputElement = document.getElementById(outputId);\n",
              "  outputElement.innerHTML = '';\n",
              "\n",
              "  const pickedPromise = new Promise((resolve) => {\n",
              "    inputElement.addEventListener('change', (e) => {\n",
              "      resolve(e.target.files);\n",
              "    });\n",
              "  });\n",
              "\n",
              "  const cancel = document.createElement('button');\n",
              "  inputElement.parentElement.appendChild(cancel);\n",
              "  cancel.textContent = 'Cancel upload';\n",
              "  const cancelPromise = new Promise((resolve) => {\n",
              "    cancel.onclick = () => {\n",
              "      resolve(null);\n",
              "    };\n",
              "  });\n",
              "\n",
              "  // Wait for the user to pick the files.\n",
              "  const files = yield {\n",
              "    promise: Promise.race([pickedPromise, cancelPromise]),\n",
              "    response: {\n",
              "      action: 'starting',\n",
              "    }\n",
              "  };\n",
              "\n",
              "  cancel.remove();\n",
              "\n",
              "  // Disable the input element since further picks are not allowed.\n",
              "  inputElement.disabled = true;\n",
              "\n",
              "  if (!files) {\n",
              "    return {\n",
              "      response: {\n",
              "        action: 'complete',\n",
              "      }\n",
              "    };\n",
              "  }\n",
              "\n",
              "  for (const file of files) {\n",
              "    const li = document.createElement('li');\n",
              "    li.append(span(file.name, {fontWeight: 'bold'}));\n",
              "    li.append(span(\n",
              "        `(${file.type || 'n/a'}) - ${file.size} bytes, ` +\n",
              "        `last modified: ${\n",
              "            file.lastModifiedDate ? file.lastModifiedDate.toLocaleDateString() :\n",
              "                                    'n/a'} - `));\n",
              "    const percent = span('0% done');\n",
              "    li.appendChild(percent);\n",
              "\n",
              "    outputElement.appendChild(li);\n",
              "\n",
              "    const fileDataPromise = new Promise((resolve) => {\n",
              "      const reader = new FileReader();\n",
              "      reader.onload = (e) => {\n",
              "        resolve(e.target.result);\n",
              "      };\n",
              "      reader.readAsArrayBuffer(file);\n",
              "    });\n",
              "    // Wait for the data to be ready.\n",
              "    let fileData = yield {\n",
              "      promise: fileDataPromise,\n",
              "      response: {\n",
              "        action: 'continue',\n",
              "      }\n",
              "    };\n",
              "\n",
              "    // Use a chunked sending to avoid message size limits. See b/62115660.\n",
              "    let position = 0;\n",
              "    do {\n",
              "      const length = Math.min(fileData.byteLength - position, MAX_PAYLOAD_SIZE);\n",
              "      const chunk = new Uint8Array(fileData, position, length);\n",
              "      position += length;\n",
              "\n",
              "      const base64 = btoa(String.fromCharCode.apply(null, chunk));\n",
              "      yield {\n",
              "        response: {\n",
              "          action: 'append',\n",
              "          file: file.name,\n",
              "          data: base64,\n",
              "        },\n",
              "      };\n",
              "\n",
              "      let percentDone = fileData.byteLength === 0 ?\n",
              "          100 :\n",
              "          Math.round((position / fileData.byteLength) * 100);\n",
              "      percent.textContent = `${percentDone}% done`;\n",
              "\n",
              "    } while (position < fileData.byteLength);\n",
              "  }\n",
              "\n",
              "  // All done.\n",
              "  yield {\n",
              "    response: {\n",
              "      action: 'complete',\n",
              "    }\n",
              "  };\n",
              "}\n",
              "\n",
              "scope.google = scope.google || {};\n",
              "scope.google.colab = scope.google.colab || {};\n",
              "scope.google.colab._files = {\n",
              "  _uploadFiles,\n",
              "  _uploadFilesContinue,\n",
              "};\n",
              "})(self);\n",
              "</script> "
            ]
          },
          "metadata": {}
        },
        {
          "output_type": "error",
          "ename": "KeyboardInterrupt",
          "evalue": "ignored",
          "traceback": [
            "\u001b[0;31m---------------------------------------------------------------------------\u001b[0m",
            "\u001b[0;31mKeyboardInterrupt\u001b[0m                         Traceback (most recent call last)",
            "\u001b[0;32m<ipython-input-203-5c2e8a8d365b>\u001b[0m in \u001b[0;36m<cell line: 2>\u001b[0;34m()\u001b[0m\n\u001b[1;32m      1\u001b[0m \u001b[0;32mfrom\u001b[0m \u001b[0mgoogle\u001b[0m\u001b[0;34m.\u001b[0m\u001b[0mcolab\u001b[0m \u001b[0;32mimport\u001b[0m \u001b[0mfiles\u001b[0m\u001b[0;34m\u001b[0m\u001b[0;34m\u001b[0m\u001b[0m\n\u001b[0;32m----> 2\u001b[0;31m \u001b[0mfiles\u001b[0m\u001b[0;34m.\u001b[0m\u001b[0mupload\u001b[0m\u001b[0;34m(\u001b[0m\u001b[0;34m)\u001b[0m\u001b[0;34m\u001b[0m\u001b[0;34m\u001b[0m\u001b[0m\n\u001b[0m",
            "\u001b[0;32m/usr/local/lib/python3.10/dist-packages/google/colab/files.py\u001b[0m in \u001b[0;36mupload\u001b[0;34m()\u001b[0m\n\u001b[1;32m     67\u001b[0m   \"\"\"\n\u001b[1;32m     68\u001b[0m \u001b[0;34m\u001b[0m\u001b[0m\n\u001b[0;32m---> 69\u001b[0;31m   \u001b[0muploaded_files\u001b[0m \u001b[0;34m=\u001b[0m \u001b[0m_upload_files\u001b[0m\u001b[0;34m(\u001b[0m\u001b[0mmultiple\u001b[0m\u001b[0;34m=\u001b[0m\u001b[0;32mTrue\u001b[0m\u001b[0;34m)\u001b[0m\u001b[0;34m\u001b[0m\u001b[0;34m\u001b[0m\u001b[0m\n\u001b[0m\u001b[1;32m     70\u001b[0m   \u001b[0;31m# Mapping from original filename to filename as saved locally.\u001b[0m\u001b[0;34m\u001b[0m\u001b[0;34m\u001b[0m\u001b[0m\n\u001b[1;32m     71\u001b[0m   \u001b[0mlocal_filenames\u001b[0m \u001b[0;34m=\u001b[0m \u001b[0mdict\u001b[0m\u001b[0;34m(\u001b[0m\u001b[0;34m)\u001b[0m\u001b[0;34m\u001b[0m\u001b[0;34m\u001b[0m\u001b[0m\n",
            "\u001b[0;32m/usr/local/lib/python3.10/dist-packages/google/colab/files.py\u001b[0m in \u001b[0;36m_upload_files\u001b[0;34m(multiple)\u001b[0m\n\u001b[1;32m    162\u001b[0m \u001b[0;34m\u001b[0m\u001b[0m\n\u001b[1;32m    163\u001b[0m   \u001b[0;32mwhile\u001b[0m \u001b[0mresult\u001b[0m\u001b[0;34m[\u001b[0m\u001b[0;34m'action'\u001b[0m\u001b[0;34m]\u001b[0m \u001b[0;34m!=\u001b[0m \u001b[0;34m'complete'\u001b[0m\u001b[0;34m:\u001b[0m\u001b[0;34m\u001b[0m\u001b[0;34m\u001b[0m\u001b[0m\n\u001b[0;32m--> 164\u001b[0;31m     result = _output.eval_js(\n\u001b[0m\u001b[1;32m    165\u001b[0m         'google.colab._files._uploadFilesContinue(\"{output_id}\")'.format(\n\u001b[1;32m    166\u001b[0m             \u001b[0moutput_id\u001b[0m\u001b[0;34m=\u001b[0m\u001b[0moutput_id\u001b[0m\u001b[0;34m\u001b[0m\u001b[0;34m\u001b[0m\u001b[0m\n",
            "\u001b[0;32m/usr/local/lib/python3.10/dist-packages/google/colab/output/_js.py\u001b[0m in \u001b[0;36meval_js\u001b[0;34m(script, ignore_result, timeout_sec)\u001b[0m\n\u001b[1;32m     38\u001b[0m   \u001b[0;32mif\u001b[0m \u001b[0mignore_result\u001b[0m\u001b[0;34m:\u001b[0m\u001b[0;34m\u001b[0m\u001b[0;34m\u001b[0m\u001b[0m\n\u001b[1;32m     39\u001b[0m     \u001b[0;32mreturn\u001b[0m\u001b[0;34m\u001b[0m\u001b[0;34m\u001b[0m\u001b[0m\n\u001b[0;32m---> 40\u001b[0;31m   \u001b[0;32mreturn\u001b[0m \u001b[0m_message\u001b[0m\u001b[0;34m.\u001b[0m\u001b[0mread_reply_from_input\u001b[0m\u001b[0;34m(\u001b[0m\u001b[0mrequest_id\u001b[0m\u001b[0;34m,\u001b[0m \u001b[0mtimeout_sec\u001b[0m\u001b[0;34m)\u001b[0m\u001b[0;34m\u001b[0m\u001b[0;34m\u001b[0m\u001b[0m\n\u001b[0m\u001b[1;32m     41\u001b[0m \u001b[0;34m\u001b[0m\u001b[0m\n\u001b[1;32m     42\u001b[0m \u001b[0;34m\u001b[0m\u001b[0m\n",
            "\u001b[0;32m/usr/local/lib/python3.10/dist-packages/google/colab/_message.py\u001b[0m in \u001b[0;36mread_reply_from_input\u001b[0;34m(message_id, timeout_sec)\u001b[0m\n\u001b[1;32m     94\u001b[0m     \u001b[0mreply\u001b[0m \u001b[0;34m=\u001b[0m \u001b[0m_read_next_input_message\u001b[0m\u001b[0;34m(\u001b[0m\u001b[0;34m)\u001b[0m\u001b[0;34m\u001b[0m\u001b[0;34m\u001b[0m\u001b[0m\n\u001b[1;32m     95\u001b[0m     \u001b[0;32mif\u001b[0m \u001b[0mreply\u001b[0m \u001b[0;34m==\u001b[0m \u001b[0m_NOT_READY\u001b[0m \u001b[0;32mor\u001b[0m \u001b[0;32mnot\u001b[0m \u001b[0misinstance\u001b[0m\u001b[0;34m(\u001b[0m\u001b[0mreply\u001b[0m\u001b[0;34m,\u001b[0m \u001b[0mdict\u001b[0m\u001b[0;34m)\u001b[0m\u001b[0;34m:\u001b[0m\u001b[0;34m\u001b[0m\u001b[0;34m\u001b[0m\u001b[0m\n\u001b[0;32m---> 96\u001b[0;31m       \u001b[0mtime\u001b[0m\u001b[0;34m.\u001b[0m\u001b[0msleep\u001b[0m\u001b[0;34m(\u001b[0m\u001b[0;36m0.025\u001b[0m\u001b[0;34m)\u001b[0m\u001b[0;34m\u001b[0m\u001b[0;34m\u001b[0m\u001b[0m\n\u001b[0m\u001b[1;32m     97\u001b[0m       \u001b[0;32mcontinue\u001b[0m\u001b[0;34m\u001b[0m\u001b[0;34m\u001b[0m\u001b[0m\n\u001b[1;32m     98\u001b[0m     if (\n",
            "\u001b[0;31mKeyboardInterrupt\u001b[0m: "
          ]
        }
      ]
    },
    {
      "cell_type": "markdown",
      "source": [
        "####Google Drive import method"
      ],
      "metadata": {
        "id": "adMlVqzRtFa5"
      }
    },
    {
      "cell_type": "markdown",
      "source": [
        "Alternative method to upload by copying from Google drive (this can be faster). Filepath will need to be changed to where you have the file saved."
      ],
      "metadata": {
        "id": "4z6pKwoxNA9k"
      }
    },
    {
      "cell_type": "code",
      "source": [
        "from google.colab import drive\n",
        "drive.mount('/content/drive')\n",
        "\n",
        "!cp -r /content/drive/MyDrive/y4_final/papers_df.csv /content"
      ],
      "metadata": {
        "colab": {
          "base_uri": "https://localhost:8080/"
        },
        "id": "6tMEnj2FNIbs",
        "outputId": "a1439cd8-5483-465e-cf44-bb3d3194d872"
      },
      "execution_count": null,
      "outputs": [
        {
          "output_type": "stream",
          "name": "stdout",
          "text": [
            "Drive already mounted at /content/drive; to attempt to forcibly remount, call drive.mount(\"/content/drive\", force_remount=True).\n"
          ]
        }
      ]
    },
    {
      "cell_type": "markdown",
      "source": [
        "####Convert to dataframe"
      ],
      "metadata": {
        "id": "Uwe-od5JtLp7"
      }
    },
    {
      "cell_type": "markdown",
      "source": [
        "Read in the paper as pandas dataframe."
      ],
      "metadata": {
        "id": "E0NsPIsEMrFb"
      }
    },
    {
      "cell_type": "code",
      "source": [
        "papers_df = pd.read_csv('papers_df.csv',index_col=0, converters={'categories_list': literal_eval, 'clean_authors': literal_eval}, parse_dates=['created_datetime'])"
      ],
      "metadata": {
        "colab": {
          "base_uri": "https://localhost:8080/"
        },
        "id": "_ey-7yqYMsYA",
        "outputId": "5202825a-c1e0-4aec-e4da-002987a36cfd"
      },
      "execution_count": null,
      "outputs": [
        {
          "output_type": "stream",
          "name": "stderr",
          "text": [
            "<ipython-input-11-ccc4bf191523>:1: DtypeWarning: Columns (1) have mixed types. Specify dtype option on import or set low_memory=False.\n",
            "  papers_df = pd.read_csv('papers_df.csv',index_col=0, converters={'categories_list': literal_eval, 'clean_authors': literal_eval}, parse_dates=['created_datetime'])\n"
          ]
        }
      ]
    },
    {
      "cell_type": "markdown",
      "source": [
        "# Read the dataset, extracting any papers categorised with any astrophysics tags"
      ],
      "metadata": {
        "id": "enjf_liYIzMs"
      }
    },
    {
      "cell_type": "markdown",
      "source": [
        "**Only run this section if you did not upload a papers_df.csv file previously.**"
      ],
      "metadata": {
        "id": "6bAIpEw4PCgL"
      }
    },
    {
      "cell_type": "markdown",
      "source": [
        "Defining the arXiv astro-ph categories."
      ],
      "metadata": {
        "id": "iTvmh4Zdq_Am"
      }
    },
    {
      "cell_type": "code",
      "source": [
        "category_ids = ['astro-ph', 'astro-ph.CO', 'astro-ph.EP', 'astro-ph.GA', 'astro-ph.HE', 'astro-ph.IM', 'astro-ph.SR']"
      ],
      "metadata": {
        "id": "e7Y072kf4swc"
      },
      "execution_count": null,
      "outputs": []
    },
    {
      "cell_type": "markdown",
      "source": [
        "Defining a function that splits the string containing the authors names into a list of authors."
      ],
      "metadata": {
        "id": "eyjjGCGirD__"
      }
    },
    {
      "cell_type": "code",
      "source": [
        "def clean_authors_func(authors):\n",
        "    r = []\n",
        "    for a in authors:\n",
        "        r.append(\" \".join(a).strip())\n",
        "    return r"
      ],
      "metadata": {
        "id": "Y_9Vbtyd1G6c"
      },
      "execution_count": null,
      "outputs": []
    },
    {
      "cell_type": "markdown",
      "source": [
        "Reading the dataset JSON and processing it, extracting the information desired on each line and returning it as a pandas dataframe."
      ],
      "metadata": {
        "id": "zqOTz98IrRLz"
      }
    },
    {
      "cell_type": "code",
      "source": [
        "cols = ['id', 'clean_authors', 'title', 'abstract', 'versions', 'categories_list'] #Define dataframe column names\n",
        "papers = [] #Create empty list for storing papers information in\n",
        "\n",
        "with open(\"dataset/arxiv-metadata-oai-snapshot.json\", \"r\") as f: #Open the dataset json file\n",
        "    for l in f: #For each line in the file\n",
        "        d = json.loads(l) #Load the line with json\n",
        "        if any(x in category_ids for x in d['categories'].split(' ')): #Read the list of categories and split it, compare the new list to the list of astro-ph categories\n",
        "            d['clean_authors'] = clean_authors_func(d['authors_parsed']) #Use clean_authors_func to convert the string of authors into a list\n",
        "            list = [d['id'], d['clean_authors'], d['title'], d['abstract'], d['versions'], d['categories'].split(' ')] #Extract the desired columns and add to a new list\n",
        "            papers.append(list) #Append the new list to the list of papers\n",
        "\n",
        "papers_df = pd.DataFrame().from_records(papers, columns=cols) #Create a dataframe from the lists, papers, and columns\n",
        "#Take the first entry in the versions list and convert to datetime\n",
        "papers_df['created_datetime'] = [datetime.datetime.strptime(date[0]['created'].split(',')[1],' %d %b %Y %H:%M:%S %Z') for date in papers_df['versions']]\n",
        "papers_df['year'] = papers_df['created_datetime'].dt.year #Convert the datetime to just the year"
      ],
      "metadata": {
        "id": "wjgn8Adz_GgQ"
      },
      "execution_count": null,
      "outputs": []
    },
    {
      "cell_type": "markdown",
      "source": [
        "----------------------------------------------------------------------------------------------------------------------------------------------------------------"
      ],
      "metadata": {
        "id": "JWUcB8yqK2s4"
      }
    },
    {
      "cell_type": "markdown",
      "source": [
        "# Extract papers which involve machine learning"
      ],
      "metadata": {
        "id": "ecWwQuR73Rrf"
      }
    },
    {
      "cell_type": "markdown",
      "source": [
        "Remove newline (\\n) characters from the papers abstracts."
      ],
      "metadata": {
        "id": "BErZEh9rU3pX"
      }
    },
    {
      "cell_type": "code",
      "source": [
        "papers_df[['abstract']] = papers_df[['abstract']].replace(r'\\n',' ', regex=True) #Replace all newline characters in the abstract with empty space"
      ],
      "metadata": {
        "id": "KTHfP0TJU2la"
      },
      "execution_count": null,
      "outputs": []
    },
    {
      "cell_type": "markdown",
      "source": [
        "Save the dataframe containing the papers as a CSV file if desired."
      ],
      "metadata": {
        "id": "-fHQHgHSKzja"
      }
    },
    {
      "cell_type": "code",
      "source": [
        "papers_df.to_csv(\"papers_df.csv\") #Save to a csv file"
      ],
      "metadata": {
        "id": "aUhp9QUkKyq3"
      },
      "execution_count": null,
      "outputs": []
    },
    {
      "cell_type": "markdown",
      "source": [
        "Define the words/phrases for each wave and the overall list"
      ],
      "metadata": {
        "id": "utmsSXwjJBuh"
      }
    },
    {
      "cell_type": "code",
      "source": [
        "wave1 = ['perceptron', 'multilayer perceptron', 'multi-layer perceptron', 'multi layer perceptron', 'artificial neuron', 'artificial neural network', 'artificial neural', 'artificial neural-network', 'backpropagation',\n",
        "         'artificial neural net', 'artificial-neural net', 'artificial neural-net', 'artificial-neural-net', 'Neural Network', 'Neural-Network', 'Neural-Net', 'Neural Net']\n",
        "wave2 = ['Convolutional Neural', 'convolutional neural network', 'convolutional neural-network', 'Recurrent Neural', 'Recurrent neural network', 'Recurrent neural-network', 'convolutional layer', 'pooling layer',\n",
        "         'LSTM', 'long short-term memory', 'long short term memory', 'long short-term', 'long short term', 'gated recurrent', 'gated-recurrent', 'residual network', 'transformer',' transformers', 'transformer model',\n",
        "         'self-attention', 'self attention', 'supervised learning', 'supervised deep learning', 'supervised deep-learning']\n",
        "wave3 = ['deep generative modelling', 'deep generative-modelling', 'deep generative', 'generative modelling', 'generative', 'GAN', 'generative adversarial', 'autoencoder', 'auto-encoder', 'variational autoencoder',\n",
        "         'variational auto-encoder', 'score-based model', 'score based model', 'score-based  generative model', 'score based generative model', 'competing neural', 'competing neural-networks',\n",
        "         'representation learning', 'self-supervised', 'self supervised', 'contrastive learning', 'learning representations', 'surrogate task', 'word embedding', 'word-embedding']\n",
        "phrases = ['Artificial Intelligence', 'Machine Learning','LLMS','Large Language Models', 'support vector machine', 'support vector', 'deep learning', 'deep-learning']"
      ],
      "metadata": {
        "id": "9mPQIc3xG3pa"
      },
      "execution_count": null,
      "outputs": []
    },
    {
      "cell_type": "markdown",
      "source": [
        "Defining the regex search function that searches each abstract for the phrases in the list."
      ],
      "metadata": {
        "id": "DuGMn2xMrnSJ"
      }
    },
    {
      "cell_type": "code",
      "source": [
        "def contains_phrase(row,phrases):\n",
        "    for phrase in phrases: #Repeat for each word in the list\n",
        "        if re.search(r'\\b' + phrase + r'\\b', row, re.IGNORECASE): #Search phrase surrounded by word breaks, ignoring case\n",
        "            return True\n",
        "    return False"
      ],
      "metadata": {
        "id": "wuehSt-ML6Lg"
      },
      "execution_count": null,
      "outputs": []
    },
    {
      "cell_type": "markdown",
      "source": [
        "Extract the papers that contain the search phrases"
      ],
      "metadata": {
        "id": "c_3tht-NJMUZ"
      }
    },
    {
      "cell_type": "code",
      "source": [
        "wave1_df = papers_df[papers_df['abstract'].apply(contains_phrase, args=(wave1,))] #Get papers for wave1\n",
        "wave2_df = papers_df[papers_df['abstract'].apply(contains_phrase, args=(wave2,))] #Get papers for wave2\n",
        "wave3_df = papers_df[papers_df['abstract'].apply(contains_phrase, args=(wave3,))] #Get papers for wave3\n",
        "phrases_temp_df = papers_df[papers_df['abstract'].apply(contains_phrase, args=(phrases,))] #Get general papers\n",
        "\n",
        "frames = [wave1_df, wave2_df, wave3_df, phrases_temp_df]\n",
        "phrases_df = pd.concat(frames) #Combine the prior dfs into one\n",
        "phrases_df.drop_duplicates(subset=['id'],inplace=True) #Drop any duplicates based on the id number"
      ],
      "metadata": {
        "id": "ZVhd8R1zLEzO"
      },
      "execution_count": null,
      "outputs": []
    },
    {
      "cell_type": "markdown",
      "source": [
        "# Using TF-IDF and a Support Vector Machine to attempt to classify papers"
      ],
      "metadata": {
        "id": "ONuxtA1wq5yw"
      }
    },
    {
      "cell_type": "markdown",
      "source": [
        "###Preprocessing steps"
      ],
      "metadata": {
        "id": "dVp32C7dRQJg"
      }
    },
    {
      "cell_type": "code",
      "source": [
        "import string\n",
        "import nltk\n",
        "from nltk.corpus import stopwords\n",
        "from nltk import word_tokenize"
      ],
      "metadata": {
        "id": "9sxl41Scqyoc"
      },
      "execution_count": null,
      "outputs": []
    },
    {
      "cell_type": "markdown",
      "source": [
        "Download English language stopwords from nltk and add to a set."
      ],
      "metadata": {
        "id": "DYAOhVv2REVW"
      }
    },
    {
      "cell_type": "code",
      "source": [
        "nltk.download('punkt') #Donwload the punkt sentence tokenizer\n",
        "nltk.download('stopwords') #Download the corpus of stopwords\n",
        "stop_words = set(stopwords.words('english')) #Make a set of English stopwords"
      ],
      "metadata": {
        "colab": {
          "base_uri": "https://localhost:8080/"
        },
        "id": "KDRBJrmCRDkW",
        "outputId": "388998b5-e246-4dc3-d4ad-2ce87aebc15a"
      },
      "execution_count": null,
      "outputs": [
        {
          "output_type": "stream",
          "name": "stderr",
          "text": [
            "[nltk_data] Downloading package punkt to /root/nltk_data...\n",
            "[nltk_data]   Unzipping tokenizers/punkt.zip.\n",
            "[nltk_data] Downloading package stopwords to /root/nltk_data...\n",
            "[nltk_data]   Unzipping corpora/stopwords.zip.\n"
          ]
        }
      ]
    },
    {
      "cell_type": "markdown",
      "source": [
        "Define a function for preprocessing the abstract strings."
      ],
      "metadata": {
        "id": "tJHbX-IiRUPM"
      }
    },
    {
      "cell_type": "code",
      "source": [
        "def preprocessing(line):\n",
        "    line = line.lower() #Convert to lowercase\n",
        "    line = re.sub(r'\\b\\w{1,3}\\b', '', line) #Remove any words less than 4 characters long\n",
        "    line = re.sub(r\"[{}]\".format(string.punctuation), \" \", line) #Remove all punctuation\n",
        "    line = line.replace('\\\\', '') #Remove leftover backslashes\n",
        "    line = line.translate({ord(k): None for k in string.digits}) #Remove all digits\n",
        "    line = \" \".join([i for i in word_tokenize(line) if i not in stop_words]) #Remove all stopwords\n",
        "    return line"
      ],
      "metadata": {
        "id": "dvfPRqX7q457"
      },
      "execution_count": null,
      "outputs": []
    },
    {
      "cell_type": "markdown",
      "source": [
        "###Creating the training and test datasets"
      ],
      "metadata": {
        "id": "u-Zz-_VDhFug"
      }
    },
    {
      "cell_type": "code",
      "source": [
        "from sklearn.model_selection import train_test_split"
      ],
      "metadata": {
        "id": "t57LoetrCl_s"
      },
      "execution_count": null,
      "outputs": []
    },
    {
      "cell_type": "markdown",
      "source": [
        "Define new dataframes consisting of only papers that the regex search did not classify as using machine learning and papers which were identified as using ML byt not part of any wave."
      ],
      "metadata": {
        "id": "5QQsohDdhMK3"
      }
    },
    {
      "cell_type": "code",
      "source": [
        "non_ml_df = pd.concat([papers_df, phrases_df, phrases_df]).drop_duplicates(subset=['id'], keep=False)\n",
        "non_wave_df = pd.concat([phrases_temp_df, wave1_df, wave1_df, wave2_df, wave2_df, wave3_df, wave3_df]).drop_duplicates(subset=['id'], keep=False)"
      ],
      "metadata": {
        "id": "BkXRq_8jJOjp"
      },
      "execution_count": null,
      "outputs": []
    },
    {
      "cell_type": "markdown",
      "source": [
        "Create the training and test sets."
      ],
      "metadata": {
        "id": "l1usutuShUFI"
      }
    },
    {
      "cell_type": "code",
      "source": [
        "whole_df_mc = pd.concat([wave1_df.sample(340), wave2_df.sample(340), wave3_df.sample(340), non_wave_df.sample(340), non_ml_df.sample(5440)]) #Create positive negative examples\n",
        "\n",
        "whole_df_mc['target'] = ((['Wave1']*340) + (['Wave2']*340) + (['Wave3']*340) + (['Non-Wave']*340)+ (['Non-ML']*5440)) #Add the corresponding labels as a new column\n",
        "\n",
        "whole_df_mc.drop_duplicates(subset=['id'],inplace=True)\n",
        "\n",
        "#Create new dataframes to hold the training and test sets\n",
        "whole_train_mc = pd.DataFrame()\n",
        "whole_test_mc = pd.DataFrame()\n",
        "\n",
        "#Split the data into train and test sets with a ratio of 0.8/0.2, split is stratified based on the target label\n",
        "whole_train_mc['data'], whole_test_mc['data'], whole_train_mc['target'], whole_test_mc['target'] = train_test_split(whole_df_mc['abstract'],\n",
        "                                                                                                        whole_df_mc['target'], stratify=whole_df_mc['target'],\n",
        "                                                                                                        test_size=0.2, random_state=42)\n",
        "\n",
        "#Redefine whole_df to save memory\n",
        "whole_df_mc = ''"
      ],
      "metadata": {
        "id": "-AQgkj4pCQZd"
      },
      "execution_count": null,
      "outputs": []
    },
    {
      "cell_type": "markdown",
      "source": [
        "Using the preprocessing on the training and test sets."
      ],
      "metadata": {
        "id": "7EWDlo4AiNx9"
      }
    },
    {
      "cell_type": "code",
      "source": [
        "processed = [] #Create empty list to store strings\n",
        "\n",
        "for df in [whole_train_mc, whole_test_mc]: #For each dataframe\n",
        "    for i,a in df.iterrows(): #Iterate over each row\n",
        "        processed.append(preprocessing(a['data'])) #Append the preprocessed abstract string to the list\n",
        "    df['data'] = processed #Replace the data column with the preprocessed data\n",
        "\n",
        "    processed = [] #Reset the list"
      ],
      "metadata": {
        "id": "gzF_mUO6E1Jh"
      },
      "execution_count": null,
      "outputs": []
    },
    {
      "cell_type": "markdown",
      "source": [
        "###Converting data to TF-IDF, fitting the classifier and testing it."
      ],
      "metadata": {
        "id": "8NuMR5yGj3ec"
      }
    },
    {
      "cell_type": "markdown",
      "source": [
        "Import used Scikit-Learn functions."
      ],
      "metadata": {
        "id": "WHw0bJ65xMug"
      }
    },
    {
      "cell_type": "code",
      "source": [
        "from sklearn.svm import SVC\n",
        "from sklearn.metrics import confusion_matrix, ConfusionMatrixDisplay\n",
        "from sklearn.feature_extraction.text import CountVectorizer, TfidfTransformer\n",
        "from sklearn.pipeline import Pipeline"
      ],
      "metadata": {
        "id": "HJZkceXOp32J"
      },
      "execution_count": null,
      "outputs": []
    },
    {
      "cell_type": "markdown",
      "source": [
        "Create a scikit-learn pipeline that implements a count vectorizer, a TF-IDF transformer, and a linear SVM classifier with automatically balanced class weights."
      ],
      "metadata": {
        "id": "ZQFiI_Tbil97"
      }
    },
    {
      "cell_type": "code",
      "source": [
        "text_clf_BSVM = Pipeline([\n",
        "    ('vect', CountVectorizer()),\n",
        "    ('tfidf', TfidfTransformer()),\n",
        "    ('clf', SVC(kernel='linear', class_weight='balanced')),\n",
        "])"
      ],
      "metadata": {
        "id": "BL6e1-zuE_Y8"
      },
      "execution_count": null,
      "outputs": []
    },
    {
      "cell_type": "markdown",
      "source": [
        "Fit the SVM to the training data by running it through the pipeline so it uses the TFIDF data."
      ],
      "metadata": {
        "id": "ocMRpkJgi9T6"
      }
    },
    {
      "cell_type": "code",
      "source": [
        "text_clf_BSVM.fit(whole_train_mc.data, whole_train_mc.target) #Fit the classifier"
      ],
      "metadata": {
        "colab": {
          "base_uri": "https://localhost:8080/",
          "height": 161
        },
        "id": "B7o8Gb2hFN0M",
        "outputId": "34cfaf63-13c0-4a00-fd98-cb38e3dd6a42"
      },
      "execution_count": null,
      "outputs": [
        {
          "output_type": "execute_result",
          "data": {
            "text/plain": [
              "Pipeline(steps=[('vect', CountVectorizer()), ('tfidf', TfidfTransformer()),\n",
              "                ('clf', SVC(class_weight='balanced', kernel='linear'))])"
            ],
            "text/html": [
              "<style>#sk-container-id-3 {color: black;background-color: white;}#sk-container-id-3 pre{padding: 0;}#sk-container-id-3 div.sk-toggleable {background-color: white;}#sk-container-id-3 label.sk-toggleable__label {cursor: pointer;display: block;width: 100%;margin-bottom: 0;padding: 0.3em;box-sizing: border-box;text-align: center;}#sk-container-id-3 label.sk-toggleable__label-arrow:before {content: \"▸\";float: left;margin-right: 0.25em;color: #696969;}#sk-container-id-3 label.sk-toggleable__label-arrow:hover:before {color: black;}#sk-container-id-3 div.sk-estimator:hover label.sk-toggleable__label-arrow:before {color: black;}#sk-container-id-3 div.sk-toggleable__content {max-height: 0;max-width: 0;overflow: hidden;text-align: left;background-color: #f0f8ff;}#sk-container-id-3 div.sk-toggleable__content pre {margin: 0.2em;color: black;border-radius: 0.25em;background-color: #f0f8ff;}#sk-container-id-3 input.sk-toggleable__control:checked~div.sk-toggleable__content {max-height: 200px;max-width: 100%;overflow: auto;}#sk-container-id-3 input.sk-toggleable__control:checked~label.sk-toggleable__label-arrow:before {content: \"▾\";}#sk-container-id-3 div.sk-estimator input.sk-toggleable__control:checked~label.sk-toggleable__label {background-color: #d4ebff;}#sk-container-id-3 div.sk-label input.sk-toggleable__control:checked~label.sk-toggleable__label {background-color: #d4ebff;}#sk-container-id-3 input.sk-hidden--visually {border: 0;clip: rect(1px 1px 1px 1px);clip: rect(1px, 1px, 1px, 1px);height: 1px;margin: -1px;overflow: hidden;padding: 0;position: absolute;width: 1px;}#sk-container-id-3 div.sk-estimator {font-family: monospace;background-color: #f0f8ff;border: 1px dotted black;border-radius: 0.25em;box-sizing: border-box;margin-bottom: 0.5em;}#sk-container-id-3 div.sk-estimator:hover {background-color: #d4ebff;}#sk-container-id-3 div.sk-parallel-item::after {content: \"\";width: 100%;border-bottom: 1px solid gray;flex-grow: 1;}#sk-container-id-3 div.sk-label:hover label.sk-toggleable__label {background-color: #d4ebff;}#sk-container-id-3 div.sk-serial::before {content: \"\";position: absolute;border-left: 1px solid gray;box-sizing: border-box;top: 0;bottom: 0;left: 50%;z-index: 0;}#sk-container-id-3 div.sk-serial {display: flex;flex-direction: column;align-items: center;background-color: white;padding-right: 0.2em;padding-left: 0.2em;position: relative;}#sk-container-id-3 div.sk-item {position: relative;z-index: 1;}#sk-container-id-3 div.sk-parallel {display: flex;align-items: stretch;justify-content: center;background-color: white;position: relative;}#sk-container-id-3 div.sk-item::before, #sk-container-id-3 div.sk-parallel-item::before {content: \"\";position: absolute;border-left: 1px solid gray;box-sizing: border-box;top: 0;bottom: 0;left: 50%;z-index: -1;}#sk-container-id-3 div.sk-parallel-item {display: flex;flex-direction: column;z-index: 1;position: relative;background-color: white;}#sk-container-id-3 div.sk-parallel-item:first-child::after {align-self: flex-end;width: 50%;}#sk-container-id-3 div.sk-parallel-item:last-child::after {align-self: flex-start;width: 50%;}#sk-container-id-3 div.sk-parallel-item:only-child::after {width: 0;}#sk-container-id-3 div.sk-dashed-wrapped {border: 1px dashed gray;margin: 0 0.4em 0.5em 0.4em;box-sizing: border-box;padding-bottom: 0.4em;background-color: white;}#sk-container-id-3 div.sk-label label {font-family: monospace;font-weight: bold;display: inline-block;line-height: 1.2em;}#sk-container-id-3 div.sk-label-container {text-align: center;}#sk-container-id-3 div.sk-container {/* jupyter's `normalize.less` sets `[hidden] { display: none; }` but bootstrap.min.css set `[hidden] { display: none !important; }` so we also need the `!important` here to be able to override the default hidden behavior on the sphinx rendered scikit-learn.org. See: https://github.com/scikit-learn/scikit-learn/issues/21755 */display: inline-block !important;position: relative;}#sk-container-id-3 div.sk-text-repr-fallback {display: none;}</style><div id=\"sk-container-id-3\" class=\"sk-top-container\"><div class=\"sk-text-repr-fallback\"><pre>Pipeline(steps=[(&#x27;vect&#x27;, CountVectorizer()), (&#x27;tfidf&#x27;, TfidfTransformer()),\n",
              "                (&#x27;clf&#x27;, SVC(class_weight=&#x27;balanced&#x27;, kernel=&#x27;linear&#x27;))])</pre><b>In a Jupyter environment, please rerun this cell to show the HTML representation or trust the notebook. <br />On GitHub, the HTML representation is unable to render, please try loading this page with nbviewer.org.</b></div><div class=\"sk-container\" hidden><div class=\"sk-item sk-dashed-wrapped\"><div class=\"sk-label-container\"><div class=\"sk-label sk-toggleable\"><input class=\"sk-toggleable__control sk-hidden--visually\" id=\"sk-estimator-id-9\" type=\"checkbox\" ><label for=\"sk-estimator-id-9\" class=\"sk-toggleable__label sk-toggleable__label-arrow\">Pipeline</label><div class=\"sk-toggleable__content\"><pre>Pipeline(steps=[(&#x27;vect&#x27;, CountVectorizer()), (&#x27;tfidf&#x27;, TfidfTransformer()),\n",
              "                (&#x27;clf&#x27;, SVC(class_weight=&#x27;balanced&#x27;, kernel=&#x27;linear&#x27;))])</pre></div></div></div><div class=\"sk-serial\"><div class=\"sk-item\"><div class=\"sk-estimator sk-toggleable\"><input class=\"sk-toggleable__control sk-hidden--visually\" id=\"sk-estimator-id-10\" type=\"checkbox\" ><label for=\"sk-estimator-id-10\" class=\"sk-toggleable__label sk-toggleable__label-arrow\">CountVectorizer</label><div class=\"sk-toggleable__content\"><pre>CountVectorizer()</pre></div></div></div><div class=\"sk-item\"><div class=\"sk-estimator sk-toggleable\"><input class=\"sk-toggleable__control sk-hidden--visually\" id=\"sk-estimator-id-11\" type=\"checkbox\" ><label for=\"sk-estimator-id-11\" class=\"sk-toggleable__label sk-toggleable__label-arrow\">TfidfTransformer</label><div class=\"sk-toggleable__content\"><pre>TfidfTransformer()</pre></div></div></div><div class=\"sk-item\"><div class=\"sk-estimator sk-toggleable\"><input class=\"sk-toggleable__control sk-hidden--visually\" id=\"sk-estimator-id-12\" type=\"checkbox\" ><label for=\"sk-estimator-id-12\" class=\"sk-toggleable__label sk-toggleable__label-arrow\">SVC</label><div class=\"sk-toggleable__content\"><pre>SVC(class_weight=&#x27;balanced&#x27;, kernel=&#x27;linear&#x27;)</pre></div></div></div></div></div></div></div>"
            ]
          },
          "metadata": {},
          "execution_count": 31
        }
      ]
    },
    {
      "cell_type": "markdown",
      "source": [
        "Use the SVM classifier to make predictions for the labels of the test data."
      ],
      "metadata": {
        "id": "cxIBQkbAjJsy"
      }
    },
    {
      "cell_type": "code",
      "source": [
        "preds_mc = text_clf_BSVM.predict(whole_test_mc.data) #Make predictions on the test data"
      ],
      "metadata": {
        "id": "agMqx3oQFTG4"
      },
      "execution_count": null,
      "outputs": []
    },
    {
      "cell_type": "markdown",
      "source": [
        "Create and plot the confusion matrix of the results of the test set. classification."
      ],
      "metadata": {
        "id": "GBclOsyDjN9m"
      }
    },
    {
      "cell_type": "code",
      "source": [
        "cm = confusion_matrix(whole_test_mc.target, preds_mc, labels=['Wave1', 'Wave2', 'Wave3', 'Non-Wave', 'Non-ML']) #Create confusion matrix\n",
        "disp = ConfusionMatrixDisplay(confusion_matrix=cm,\n",
        "                              display_labels=['Wave1', 'Wave2', 'Wave3', 'Non-Wave', 'Non-ML']) #Display confusion matrix\n",
        "disp.plot()\n",
        "plt.title('MultiClass SVM results') #Set the plot title\n",
        "plt.show() #Show the plot"
      ],
      "metadata": {
        "colab": {
          "base_uri": "https://localhost:8080/",
          "height": 472
        },
        "id": "ajTlTYr8FWx0",
        "outputId": "9dc72894-caaa-4b80-f800-15c80c495a3f"
      },
      "execution_count": null,
      "outputs": [
        {
          "output_type": "display_data",
          "data": {
            "text/plain": [
              "<Figure size 640x480 with 2 Axes>"
            ],
            "image/png": "[encoded data removed]"
          },
          "metadata": {}
        }
      ]
    },
    {
      "cell_type": "markdown",
      "source": [
        "Find the false positive and negative examples and calculate accuracy. This is only based off the labels from the regex search and in practice many of the false positive or negative predictions are actually correctly identified by the SVM and the original labels were wrong."
      ],
      "metadata": {
        "id": "Xb4AzLnCjcaq"
      }
    },
    {
      "cell_type": "code",
      "source": [
        "FP = cm.sum(axis=0) - np.diag(cm) #Calculate FP\n",
        "FN = cm.sum(axis=1) - np.diag(cm) #Calculate FN\n",
        "TP = np.diag(cm) #Calculate TP\n",
        "TN = cm.sum() - (FP + FN + TP) #Calculate TN\n",
        "ACC = (TP+TN)/(TP+FP+FN+TN) #Calculate overall accuracy\n",
        "\n",
        "print('Wave 1 1:{} \\nWave 2:{} \\nWave 3:{} \\nNon-Wave:{} \\nNon-ML:{}'.format(round(ACC[0],3),round(ACC[1],3),round(ACC[2],3),round(ACC[3],3),round(ACC[4],3))) #Print the accuracy for each label"
      ],
      "metadata": {
        "colab": {
          "base_uri": "https://localhost:8080/"
        },
        "id": "-j5_eXqnHKzI",
        "outputId": "6931e01e-a278-4a38-d912-7ba9e306e617"
      },
      "execution_count": null,
      "outputs": [
        {
          "output_type": "stream",
          "name": "stdout",
          "text": [
            "Wave 1 1:0.961 \n",
            "Wave 2:0.968 \n",
            "Wave 3:0.98 \n",
            "Non-Wave:0.969 \n",
            "Non-ML:0.973\n"
          ]
        }
      ]
    },
    {
      "cell_type": "markdown",
      "source": [
        "###Use grid search to find the best parameters. The default set values previously were found to have the best results in testing."
      ],
      "metadata": {
        "id": "6DpdczuGqxDQ"
      }
    },
    {
      "cell_type": "markdown",
      "source": [
        "Import the scikit learn function."
      ],
      "metadata": {
        "id": "GkJ26HJFxX08"
      }
    },
    {
      "cell_type": "code",
      "source": [
        "from sklearn.model_selection import GridSearchCV"
      ],
      "metadata": {
        "id": "oG3olX6Uq73p"
      },
      "execution_count": null,
      "outputs": []
    },
    {
      "cell_type": "markdown",
      "source": [
        "Define the parameters and run the grid search on a test set subset."
      ],
      "metadata": {
        "id": "fLVT-iyYxbim"
      }
    },
    {
      "cell_type": "code",
      "source": [
        "BSVM_params = {\n",
        "    'clf__class_weight':['balanced'],\n",
        "    'clf__C':np.linspace(1, 10, 10),\n",
        "    'clf__kernel':['linear', 'poly', 'rbf', 'sigmoid', 'precomputed'],\n",
        "} #Define the parameters to be searched in the classifier\n",
        "\n",
        "gs_clf = GridSearchCV(text_clf_BSVM, BSVM_params, cv=5, n_jobs=-1) #Create the grid search object with number of cores used set to most available\n",
        "gs_clf = gs_clf.fit(whole_test_mc.data[:400], whole_test_mc.target[:400]) #Test with each parameter combination on a subset of the test set\n",
        "\n",
        "gs_clf.best_score_\n",
        "for param_name in sorted(BSVM_params.keys()):\n",
        "    print(\"%s: %r\" % (param_name, gs_clf.best_params_[param_name])) #Print the best found parameters"
      ],
      "metadata": {
        "id": "XoJvXMccmTm7",
        "colab": {
          "base_uri": "https://localhost:8080/"
        },
        "outputId": "a1e4761d-ea3c-471c-971f-4ff10f0cb1dd"
      },
      "execution_count": null,
      "outputs": [
        {
          "output_type": "stream",
          "name": "stderr",
          "text": [
            "/usr/local/lib/python3.10/dist-packages/sklearn/model_selection/_validation.py:378: FitFailedWarning: \n",
            "50 fits failed out of a total of 250.\n",
            "The score on these train-test partitions for these parameters will be set to nan.\n",
            "If these failures are not expected, you can try to debug them by setting error_score='raise'.\n",
            "\n",
            "Below are more details about the failures:\n",
            "--------------------------------------------------------------------------------\n",
            "50 fits failed with the following error:\n",
            "Traceback (most recent call last):\n",
            "  File \"/usr/local/lib/python3.10/dist-packages/sklearn/model_selection/_validation.py\", line 686, in _fit_and_score\n",
            "    estimator.fit(X_train, y_train, **fit_params)\n",
            "  File \"/usr/local/lib/python3.10/dist-packages/sklearn/pipeline.py\", line 405, in fit\n",
            "    self._final_estimator.fit(Xt, y, **fit_params_last_step)\n",
            "  File \"/usr/local/lib/python3.10/dist-packages/sklearn/svm/_base.py\", line 186, in fit\n",
            "    raise TypeError(\"Sparse precomputed kernels are not supported.\")\n",
            "TypeError: Sparse precomputed kernels are not supported.\n",
            "\n",
            "  warnings.warn(some_fits_failed_message, FitFailedWarning)\n",
            "/usr/local/lib/python3.10/dist-packages/sklearn/model_selection/_search.py:952: UserWarning: One or more of the test scores are non-finite: [0.855  0.8225 0.8225 0.86      nan 0.855  0.8225 0.8225 0.8625    nan\n",
            " 0.855  0.8225 0.8225 0.8625    nan 0.85   0.8225 0.8225 0.8625    nan\n",
            " 0.85   0.8225 0.8225 0.8625    nan 0.85   0.8225 0.8225 0.8625    nan\n",
            " 0.85   0.8225 0.8225 0.8625    nan 0.85   0.8225 0.8225 0.8625    nan\n",
            " 0.85   0.8225 0.8225 0.8625    nan 0.85   0.8225 0.8225 0.8625    nan]\n",
            "  warnings.warn(\n"
          ]
        },
        {
          "output_type": "stream",
          "name": "stdout",
          "text": [
            "clf__C: 2.0\n",
            "clf__class_weight: 'balanced'\n",
            "clf__kernel: 'sigmoid'\n"
          ]
        }
      ]
    },
    {
      "cell_type": "markdown",
      "source": [
        "###Making predictions on the full dataset"
      ],
      "metadata": {
        "id": "1ihbIuC17hnH"
      }
    },
    {
      "cell_type": "markdown",
      "source": [
        "Applying the preprocessing function to all abstracts in the papers dataframe."
      ],
      "metadata": {
        "id": "BDj-ViT7l6zH"
      }
    },
    {
      "cell_type": "code",
      "source": [
        "preprocessed = []\n",
        "\n",
        "for i,a in papers_df.iterrows():\n",
        "        preprocessed.append(preprocessing(a.abstract))\n",
        "\n",
        "papers_df['preprocessed'] = preprocessed\n",
        "preprocessed = ''"
      ],
      "metadata": {
        "id": "M-wnJDSnb8RT"
      },
      "execution_count": null,
      "outputs": []
    },
    {
      "cell_type": "markdown",
      "source": [
        "Using the SVM to predict the labels for the preprocessed abstracts and adding into seperate dataframes for each label."
      ],
      "metadata": {
        "id": "85Szpx5ymAE5"
      }
    },
    {
      "cell_type": "code",
      "source": [
        "papers_df['predicted'] = text_clf_BSVM.predict(papers_df.preprocessed)\n",
        "\n",
        "svm_wave1_df = papers_df.loc[papers_df['predicted']=='Wave1']\n",
        "svm_wave2_df = papers_df.loc[papers_df['predicted']=='Wave2']\n",
        "svm_wave3_df = papers_df.loc[papers_df['predicted']=='Wave3']\n",
        "svm_nonwave_df = papers_df.loc[papers_df['predicted']=='Non-Wave']"
      ],
      "metadata": {
        "id": "WvFOkKKgQOH1"
      },
      "execution_count": null,
      "outputs": []
    },
    {
      "cell_type": "markdown",
      "source": [
        "Concatenating the seperate dataframes into one combined dataframe."
      ],
      "metadata": {
        "id": "hPMNXGN0mKf4"
      }
    },
    {
      "cell_type": "code",
      "source": [
        "svm_full_df = pd.concat([svm_wave1_df, svm_wave2_df, svm_wave3_df, svm_nonwave_df])"
      ],
      "metadata": {
        "id": "620CCI59lNaO"
      },
      "execution_count": null,
      "outputs": []
    },
    {
      "cell_type": "code",
      "source": [
        "svm_full_df.to_csv('svm_full_df.csv')"
      ],
      "metadata": {
        "id": "ZFlbGEprHtL2"
      },
      "execution_count": null,
      "outputs": []
    },
    {
      "cell_type": "markdown",
      "source": [
        "# Hypothesis testing"
      ],
      "metadata": {
        "id": "ghU2rTo83YeW"
      }
    },
    {
      "cell_type": "code",
      "source": [
        "#svm_full_df = pd.read_csv('svm_full_df.csv',index_col=0, converters={'categories_list': literal_eval, 'clean_authors': literal_eval}, parse_dates=['created_datetime'])"
      ],
      "metadata": {
        "id": "aH0wXnoos1ai"
      },
      "execution_count": null,
      "outputs": []
    },
    {
      "cell_type": "markdown",
      "source": [
        "Extract only the papers up to 2022 as 2023 does not have a full year of data."
      ],
      "metadata": {
        "id": "vZ8NdXEmwG41"
      }
    },
    {
      "cell_type": "code",
      "source": [
        "svm_full_22_df = svm_full_df.loc[svm_full_df['year'] != 2023]"
      ],
      "metadata": {
        "id": "7TTOxMHM5Jlz"
      },
      "execution_count": null,
      "outputs": []
    },
    {
      "cell_type": "markdown",
      "source": [
        "Set parameters for the plot visualisations."
      ],
      "metadata": {
        "id": "1vfjRYcSwAkQ"
      }
    },
    {
      "cell_type": "code",
      "source": [
        "plt.rcParams.update({'font.size': 12})\n",
        "plt.rcParams['axes.linewidth'] = 1.5"
      ],
      "metadata": {
        "id": "qNO4G4M9mOzG"
      },
      "execution_count": null,
      "outputs": []
    },
    {
      "cell_type": "markdown",
      "source": [
        "###Hypothesis 1"
      ],
      "metadata": {
        "id": "B_Bz_j_PyOLL"
      }
    },
    {
      "cell_type": "markdown",
      "source": [
        "Import scipy's curve_fit function and define a function for the general form of an exponential function."
      ],
      "metadata": {
        "id": "woKHNa5M3a7P"
      }
    },
    {
      "cell_type": "code",
      "source": [
        "from scipy.optimize import curve_fit\n",
        "\n",
        "#Define general exponential function\n",
        "def func(x, a, b, c):\n",
        "    return a * np.exp(b * x) + c"
      ],
      "metadata": {
        "id": "Z9_Rt4ESrg8R"
      },
      "execution_count": null,
      "outputs": []
    },
    {
      "cell_type": "markdown",
      "source": [
        "Define the data to be used in fitting the curve, this is the data from 2005 to 2022."
      ],
      "metadata": {
        "id": "fTFJMv3U3lzj"
      }
    },
    {
      "cell_type": "code",
      "source": [
        "xdata = np.arange(0, 18, 1,dtype=int) #18 years arranged\n",
        "ydata = (svm_full_22_df['year'].value_counts().sort_index()[12:] / papers_df['year'].value_counts().sort_index()[13:][:-1])*100 #The data for each year as a percentage of the total astrophysics papers that year"
      ],
      "metadata": {
        "id": "q0serh4VrHri"
      },
      "execution_count": null,
      "outputs": []
    },
    {
      "cell_type": "markdown",
      "source": [
        "Use the curve_fit function to find the optimal constant parameters for the exponential function."
      ],
      "metadata": {
        "id": "tFUS7AUS3yO-"
      }
    },
    {
      "cell_type": "code",
      "source": [
        "popt, _ = curve_fit(func, xdata, ydata)"
      ],
      "metadata": {
        "id": "yjT6RUvSrdLv"
      },
      "execution_count": null,
      "outputs": []
    },
    {
      "cell_type": "markdown",
      "source": [
        "Define the x and y values for the exponential function curve, using the optimal constant parameters found."
      ],
      "metadata": {
        "id": "E_yuunYJ39R-"
      }
    },
    {
      "cell_type": "code",
      "source": [
        "x = np.arange(0, 18, 1,dtype=int)\n",
        "\n",
        "a=popt[0]\n",
        "b=popt[1]\n",
        "c=popt[2]\n",
        "\n",
        "y = (a * (np.exp(b * x))) + c #Create the y data"
      ],
      "metadata": {
        "id": "X9hCsDpi38Vj"
      },
      "execution_count": null,
      "outputs": []
    },
    {
      "cell_type": "markdown",
      "source": [
        "Plot the paper number data and the exponential function on both a linear and logarithmic axis."
      ],
      "metadata": {
        "id": "Zht4J5HL4NTD"
      }
    },
    {
      "cell_type": "code",
      "source": [
        "fig, axs = plt.subplots(1,2,figsize = (12,6)) #Create figure\n",
        "\n",
        "#Plot the data\n",
        "axs[0].bar(svm_full_22_df['year'].value_counts().sort_index().index, (svm_full_22_df['year'].value_counts().sort_index() / papers_df['year'].value_counts().sort_index()[1:][:-1])*100, label = 'ML papers')\n",
        "#Plot the exponential curve\n",
        "axs[0].plot(x+2005, y, label = 'y = %5.3f * $e^{(%5.3fx)}$ + %5.3f' % tuple(popt), color ='r', linewidth=2)\n",
        "#Set matplotlib options\n",
        "axs[0].legend()\n",
        "axs[0].set_xlim(2005, 2022)\n",
        "axs[0].set_xticks(np.arange(2005, 2023, 1))\n",
        "axs[0].tick_params(axis='x', which='major', labelsize=10)\n",
        "axs[0].yaxis.set_minor_locator(MultipleLocator(20))\n",
        "axs[0].set_ylabel('Number of papers (%)')\n",
        "axs[0].set_xlabel('Year')\n",
        "axs[0].grid()\n",
        "\n",
        "#Plot the data\n",
        "axs[1].bar(svm_full_22_df['year'].value_counts().sort_index().index, (svm_full_22_df['year'].value_counts().sort_index() / papers_df['year'].value_counts().sort_index()[1:][:-1])*100, label = 'ML papers')\n",
        "#Plot the exponential curve\n",
        "axs[1].plot(x+2005, y, label = 'y = %5.3f * $e^{(%5.3fx)}$ + %5.3f' % tuple(popt), color ='r', linewidth=2)\n",
        "#Set matplotlib options\n",
        "axs[1].legend()\n",
        "axs[1].set_xlim(2005, 2022)\n",
        "axs[1].set_xticks(np.arange(2005, 2023, 1))\n",
        "axs[1].tick_params(axis='x', which='major', labelsize=10)\n",
        "axs[1].yaxis.set_minor_locator(MultipleLocator(20))\n",
        "axs[1].set_ylabel('Number of papers (%)')\n",
        "axs[1].set_xlabel('Year')\n",
        "axs[1].grid()\n",
        "#Set plot to a logarithmic base 10 scale\n",
        "axs[1].set_yscale('log', base=10)\n",
        "\n",
        "#Set ticks to be auto formatted\n",
        "fig.autofmt_xdate()\n",
        "fig.suptitle('Percentage of papers containing machine learning since 2005 compared an to exponential function')\n",
        "\n",
        "#Save the plot as a png, removing whitespace\n",
        "plt.savefig('hyp1.png',bbox_inches='tight', dpi=400)\n",
        "#Display plot\n",
        "plt.show()"
      ],
      "metadata": {
        "colab": {
          "base_uri": "https://localhost:8080/",
          "height": 568
        },
        "id": "I698ullv77oE",
        "outputId": "4de7e1d0-adf0-42a9-a709-efd8b1266fde"
      },
      "execution_count": null,
      "outputs": [
        {
          "output_type": "display_data",
          "data": {
            "text/plain": [
              "<Figure size 1200x600 with 2 Axes>"
            ],
            "image/png": "[encoded data removed]"
          },
          "metadata": {}
        }
      ]
    },
    {
      "cell_type": "markdown",
      "source": [
        "Installing the simularitymeasures library."
      ],
      "metadata": {
        "id": "wTd1zCZOyhPW"
      }
    },
    {
      "cell_type": "code",
      "source": [
        "!pip install similaritymeasures"
      ],
      "metadata": {
        "colab": {
          "base_uri": "https://localhost:8080/"
        },
        "id": "7t7wORy08bQj",
        "outputId": "bb4e5561-1c3e-43dd-fb29-7e0faed5056b"
      },
      "execution_count": null,
      "outputs": [
        {
          "output_type": "stream",
          "name": "stdout",
          "text": [
            "Requirement already satisfied: similaritymeasures in /usr/local/lib/python3.10/dist-packages (0.7.0)\n",
            "Requirement already satisfied: numpy>=1.14.0 in /usr/local/lib/python3.10/dist-packages (from similaritymeasures) (1.23.5)\n",
            "Requirement already satisfied: scipy>=0.19.0 in /usr/local/lib/python3.10/dist-packages (from similaritymeasures) (1.10.1)\n"
          ]
        }
      ]
    },
    {
      "cell_type": "code",
      "source": [
        "import similaritymeasures"
      ],
      "metadata": {
        "id": "NCZmuqPN8c6d"
      },
      "execution_count": null,
      "outputs": []
    },
    {
      "cell_type": "markdown",
      "source": [
        "Define the data used to calculate the similarity measures."
      ],
      "metadata": {
        "id": "WUwKKAzfyln3"
      }
    },
    {
      "cell_type": "code",
      "source": [
        "#Exponential data\n",
        "exp_data = np.zeros((18, 2)) #Create correct size numpy zeroes array\n",
        "exp_data[:, 0] = (x + 2005) #Assign x with 2005 added to all values\n",
        "exp_data[:, 1] = y #Assign y\n",
        "\n",
        "#Numerical data\n",
        "num_data = np.zeros((18, 2)) #Create correct size numpy zeroes array\n",
        "num_data[:, 0] = svm_full_22_df['year'].value_counts().sort_index().index[12:] #Index values of the ML papers sorted by year\n",
        "num_data[:, 1] = (svm_full_22_df['year'].value_counts().sort_index()[12:] / papers_df['year'].value_counts().sort_index()[13:][:-1])*100 #Percentage of papers that were ML each year"
      ],
      "metadata": {
        "id": "51_y3UhADIL_"
      },
      "execution_count": null,
      "outputs": []
    },
    {
      "cell_type": "markdown",
      "source": [
        "Calculate the metrics."
      ],
      "metadata": {
        "id": "xLCeDz8uzCI8"
      }
    },
    {
      "cell_type": "code",
      "source": [
        "#Calculate partial curve mapping\n",
        "pcm = similaritymeasures.pcm(exp_data, num_data)\n",
        "print(pcm)\n",
        "\n",
        "#Calculate area between curves\n",
        "area = similaritymeasures.area_between_two_curves(exp_data, num_data)\n",
        "print(area)\n",
        "\n",
        "#Calculate mean absoute error\n",
        "mae = similaritymeasures.mae(exp_data, num_data)\n",
        "print(mae)\n",
        "#Calculate mean squared error\n",
        "mse = similaritymeasures.mse(exp_data, num_data)\n",
        "print(mse)"
      ],
      "metadata": {
        "colab": {
          "base_uri": "https://localhost:8080/"
        },
        "id": "DdG1VTiyD0L5",
        "outputId": "5099bf11-1cac-49ab-f778-5294f624ae7c"
      },
      "execution_count": null,
      "outputs": [
        {
          "output_type": "stream",
          "name": "stdout",
          "text": [
            "0.23448234930226264\n",
            "2.431543801781004\n",
            "0.07255511075858846\n",
            "0.016064963586833236\n"
          ]
        }
      ]
    },
    {
      "cell_type": "markdown",
      "source": [
        "###Hypothesis 2"
      ],
      "metadata": {
        "id": "jGDXYgak46oz"
      }
    },
    {
      "cell_type": "markdown",
      "source": [
        "Plot the number of ML papers per category."
      ],
      "metadata": {
        "id": "rHJnqkpnzQDv"
      }
    },
    {
      "cell_type": "code",
      "source": [
        "fig, axs = plt.subplots(1, 2, figsize = (12,6)) #Create the figure\n",
        "\n",
        "#Explode the categories list into seperate entries per string in list\n",
        "svm_full_22_df_cats = svm_full_22_df.explode('categories_list')\n",
        "#Take only the entries that have category as part of the category_ids list\n",
        "svm_full_22_df_cats = svm_full_22_df_cats.loc[svm_full_22_df_cats['categories_list'].isin(category_ids)]\n",
        "#Take only the entries that are not astro-ph.IM\n",
        "svm_full_22_df_cats_noim = svm_full_22_df_cats[svm_full_22_df_cats[\"categories_list\"] != \"astro-ph.IM\"]\n",
        "\n",
        "#Define colours palettes so that categories have the same colour on both plots\n",
        "pal1 = (sns.color_palette())\n",
        "pal2 = (sns.color_palette())[1:]\n",
        "\n",
        "#Plot the number of papers per category\n",
        "sns.barplot(x = svm_full_22_df_cats.categories_list.value_counts().index, y=svm_full_22_df_cats.categories_list.value_counts().values, ax=axs[0], palette=pal1)\n",
        "#Set matplotlib options\n",
        "axs[0].set_xlabel('Category')\n",
        "axs[0].set_ylabel('Papers')\n",
        "axs[0].grid()\n",
        "axs[0].yaxis.set_minor_locator(MultipleLocator(100))\n",
        "\n",
        "#Plot the number of papers per category with astro-ph.IM removed\n",
        "sns.barplot(x = svm_full_22_df_cats_noim.categories_list.value_counts().index, y=svm_full_22_df_cats_noim.categories_list.value_counts().values, ax=axs[1], palette=pal2)\n",
        "#Set matplotlib options\n",
        "axs[1].set_xlabel('Category')\n",
        "axs[1].set_ylabel('Papers')\n",
        "axs[1].set_title('astro-ph.IM removed')\n",
        "axs[1].grid()\n",
        "axs[1].yaxis.set_minor_locator(MultipleLocator(50))\n",
        "\n",
        "#Auto format ticks\n",
        "fig.autofmt_xdate()\n",
        "fig.suptitle('Total number of ML papers of each category')\n",
        "\n",
        "#Save plot as png, removing whitespace\n",
        "plt.savefig('hyp2.png',bbox_inches='tight', dpi=400)\n",
        "#Display plot\n",
        "plt.show()"
      ],
      "metadata": {
        "colab": {
          "base_uri": "https://localhost:8080/",
          "height": 603
        },
        "id": "j_56DMV4d_1j",
        "outputId": "6b023aed-e7b6-4771-bd93-facaf54f8b58"
      },
      "execution_count": null,
      "outputs": [
        {
          "output_type": "display_data",
          "data": {
            "text/plain": [
              "<Figure size 1200x600 with 2 Axes>"
            ],
            "image/png": "[encoded data removed]"
          },
          "metadata": {}
        }
      ]
    },
    {
      "cell_type": "markdown",
      "source": [
        "Find the annual stats for each category."
      ],
      "metadata": {
        "id": "XsDzML4n0ZKU"
      }
    },
    {
      "cell_type": "code",
      "source": [
        "#Get and sort the list of years in which ML papers were published\n",
        "years = svm_full_22_df.year.unique()\n",
        "years.sort()\n",
        "\n",
        "#Create dictionaries to store the annual values of each category\n",
        "im_dict = {}\n",
        "ga_dict = {}\n",
        "co_dict = {}\n",
        "sr_dict = {}\n",
        "he_dict = {}\n",
        "ep_dict = {}\n",
        "ph_dict = {}\n",
        "\n",
        "#For each year\n",
        "for j in years:\n",
        "    #Split the category list into seperate entries\n",
        "    temp_df = (svm_full_22_df.loc[svm_full_22_df['year'] == j]).explode('categories_list')\n",
        "    #Count how many papers of each category appear that year\n",
        "    for i in temp_df.categories_list:\n",
        "        if i == 'astro-ph.IM':\n",
        "            im_dict.setdefault(j, 0)\n",
        "            im_dict[j] += 1\n",
        "        elif i == 'astro-ph.GA':\n",
        "            ga_dict.setdefault(j, 0)\n",
        "            ga_dict[j] += 1\n",
        "        elif i == 'astro-ph.CO':\n",
        "            co_dict.setdefault(j, 0)\n",
        "            co_dict[j] += 1\n",
        "        elif i == 'astro-ph.SR':\n",
        "            sr_dict.setdefault(j, 0)\n",
        "            sr_dict[j] += 1\n",
        "        elif i == 'astro-ph.HE':\n",
        "            he_dict.setdefault(j, 0)\n",
        "            he_dict[j] += 1\n",
        "        elif i == 'astro-ph.EP':\n",
        "            ep_dict.setdefault(j, 0)\n",
        "            ep_dict[j] += 1\n",
        "        elif i == 'astro-ph':\n",
        "            ph_dict.setdefault(j, 0)\n",
        "            ph_dict[j] += 1\n",
        "\n",
        "#Set the temp_df to be empty\n",
        "temp_df = ''"
      ],
      "metadata": {
        "id": "fVj_ArbQo2LS"
      },
      "execution_count": null,
      "outputs": []
    },
    {
      "cell_type": "markdown",
      "source": [
        "Plot the annual stats for each category."
      ],
      "metadata": {
        "id": "xASV1WFL06ur"
      }
    },
    {
      "cell_type": "code",
      "source": [
        "fig, ax = plt.subplots(figsize=(8, 6)) #Create figure\n",
        "\n",
        "#Plot each of the dictionaries as line plots\n",
        "ax.plot(im_dict.keys(), im_dict.values(), label='astro.ph.IM', linewidth=2)\n",
        "ax.plot(ga_dict.keys(), ga_dict.values(), label='astro.ph.GA', linewidth=2, linestyle='dashed')\n",
        "ax.plot(co_dict.keys(), co_dict.values(), label='astro.ph.CO', linewidth=2, linestyle='dotted')\n",
        "ax.plot(sr_dict.keys(), sr_dict.values(), label='astro.ph.SR', linewidth=2, linestyle='dashed')\n",
        "ax.plot(he_dict.keys(), he_dict.values(), label='astro.ph.HE', linewidth=2)\n",
        "ax.plot(ep_dict.keys(), ep_dict.values(), label='astro.ph.EP', linewidth=2, linestyle='dashed')\n",
        "ax.plot(ph_dict.keys(), ph_dict.values(), label='astro.ph', linewidth=2, linestyle='dotted', color='black')\n",
        "\n",
        "#Set matplotlib options\n",
        "ax.set_xticks(years, minor=True)\n",
        "plt.title('Number of papers published by category per year')\n",
        "plt.xlabel('Year')\n",
        "plt.ylabel('Number of papers')\n",
        "plt.legend()\n",
        "plt.grid()\n",
        "\n",
        "#Auto format ticks\n",
        "fig.autofmt_xdate()\n",
        "\n",
        "#Save plot as png, removing whitespace\n",
        "plt.savefig('hyp2-1.png',bbox_inches='tight', dpi=400)\n",
        "#Display plot\n",
        "plt.show()"
      ],
      "metadata": {
        "colab": {
          "base_uri": "https://localhost:8080/",
          "height": 538
        },
        "id": "eWDSYBNe6cCC",
        "outputId": "545b79f2-3de8-4376-9daa-7714ea1a7e38"
      },
      "execution_count": null,
      "outputs": [
        {
          "output_type": "display_data",
          "data": {
            "text/plain": [
              "<Figure size 800x600 with 1 Axes>"
            ],
            "image/png": "[encoded data removed]"
          },
          "metadata": {}
        }
      ]
    },
    {
      "cell_type": "markdown",
      "source": [
        "###Hypothesis 3"
      ],
      "metadata": {
        "id": "TpYX9nWA3XEF"
      }
    },
    {
      "cell_type": "markdown",
      "source": [
        "####Preprocessing"
      ],
      "metadata": {
        "id": "g9qbi7lOGGoa"
      }
    },
    {
      "cell_type": "markdown",
      "source": [
        "Convert all arXiv ids into string and re-add leading zeroes that were removed."
      ],
      "metadata": {
        "id": "cSzd4DMyQWsh"
      }
    },
    {
      "cell_type": "code",
      "source": [
        "ids = [] #Empty list to store ids\n",
        "\n",
        "for index, row in svm_full_df.iterrows(): #Iterate over each row in DataFrame\n",
        "    if type(row['id']) == float: #If the id entry is a float\n",
        "        if (str(row['id']))[4] != '.': #If the 4th character isn't the expected decimal point\n",
        "            ids.append(str(0) + str(row['id'])) #Add a zero at the start as this means leading zero was removed. Convert to string\n",
        "        else: #If the 4th character is a decimal place no leading zero was removed\n",
        "            ids.append(str(row['id'])) #Convert to string\n",
        "    elif type(row['id']) == str:\n",
        "        ids.append(str(row['id']))\n",
        "\n",
        "svm_full_df['id'] = ids #Replace the ids column with the new, fixed values"
      ],
      "metadata": {
        "id": "qaqSTSN_L_q0"
      },
      "execution_count": null,
      "outputs": []
    },
    {
      "cell_type": "markdown",
      "source": [
        "####Setting up the ads API"
      ],
      "metadata": {
        "id": "ioyjFj5-GQWi"
      }
    },
    {
      "cell_type": "markdown",
      "source": [
        "Install and import the Python ads API module."
      ],
      "metadata": {
        "id": "KYAhfz1EWEVF"
      }
    },
    {
      "cell_type": "code",
      "source": [
        "!pip install ads\n",
        "import ads"
      ],
      "metadata": {
        "id": "UEld0iESBDOq",
        "colab": {
          "base_uri": "https://localhost:8080/"
        },
        "outputId": "cc1f23a2-4cde-43ea-ff2d-5dbf383cd0f5"
      },
      "execution_count": null,
      "outputs": [
        {
          "output_type": "stream",
          "name": "stdout",
          "text": [
            "Collecting ads\n",
            "  Downloading ads-0.12.3.tar.gz (32 kB)\n",
            "  Preparing metadata (setup.py) ... \u001b[?25l\u001b[?25hdone\n",
            "Requirement already satisfied: six in /usr/local/lib/python3.10/dist-packages (from ads) (1.16.0)\n",
            "Requirement already satisfied: requests in /usr/local/lib/python3.10/dist-packages (from ads) (2.31.0)\n",
            "Collecting httpretty==0.8.10 (from ads)\n",
            "  Downloading httpretty-0.8.10.tar.gz (41 kB)\n",
            "\u001b[2K     \u001b[90m━━━━━━━━━━━━━━━━━━━━━━━━━━━━━━━━━━━━━━━━\u001b[0m \u001b[32m41.7/41.7 kB\u001b[0m \u001b[31m2.2 MB/s\u001b[0m eta \u001b[36m0:00:00\u001b[0m\n",
            "\u001b[?25h  Preparing metadata (setup.py) ... \u001b[?25l\u001b[?25hdone\n",
            "Requirement already satisfied: werkzeug in /usr/local/lib/python3.10/dist-packages (from ads) (2.3.6)\n",
            "Collecting mock (from ads)\n",
            "  Downloading mock-5.1.0-py3-none-any.whl (30 kB)\n",
            "Requirement already satisfied: charset-normalizer<4,>=2 in /usr/local/lib/python3.10/dist-packages (from requests->ads) (3.2.0)\n",
            "Requirement already satisfied: idna<4,>=2.5 in /usr/local/lib/python3.10/dist-packages (from requests->ads) (3.4)\n",
            "Requirement already satisfied: urllib3<3,>=1.21.1 in /usr/local/lib/python3.10/dist-packages (from requests->ads) (2.0.4)\n",
            "Requirement already satisfied: certifi>=2017.4.17 in /usr/local/lib/python3.10/dist-packages (from requests->ads) (2023.7.22)\n",
            "Requirement already satisfied: MarkupSafe>=2.1.1 in /usr/local/lib/python3.10/dist-packages (from werkzeug->ads) (2.1.3)\n",
            "Building wheels for collected packages: ads, httpretty\n",
            "  Building wheel for ads (setup.py) ... \u001b[?25l\u001b[?25hdone\n",
            "  Created wheel for ads: filename=ads-0.12.3-py3-none-any.whl size=37373 sha256=361455751e99da3199334f3279a8de8cb1d5b7eddf82207b8f64a6cab5b8a9ea\n",
            "  Stored in directory: /root/.cache/pip/wheels/f6/58/3a/89f967413ce40834546a8461de8b735d9f24c5f520802188d2\n",
            "  Building wheel for httpretty (setup.py) ... \u001b[?25l\u001b[?25hdone\n",
            "  Created wheel for httpretty: filename=httpretty-0.8.10-py3-none-any.whl size=23998 sha256=a200bf2e112a507040af449baab8dbc1b7148d5fd1be1305ae33d06049cb1316\n",
            "  Stored in directory: /root/.cache/pip/wheels/fc/5d/09/2ab9bcf3f2bdd57a4be12cc5868c304ef1f4953292022ff9e7\n",
            "Successfully built ads httpretty\n",
            "Installing collected packages: httpretty, mock, ads\n",
            "Successfully installed ads-0.12.3 httpretty-0.8.10 mock-5.1.0\n"
          ]
        }
      ]
    },
    {
      "cell_type": "markdown",
      "source": [
        "Configure the ads API token."
      ],
      "metadata": {
        "id": "FY52qPwqWPt-"
      }
    },
    {
      "cell_type": "code",
      "source": [
        "ads.config.token = 'DwfLcfka8BjXmNvfiGqzyyqLiR3nK8D7E5ZbXplt'"
      ],
      "metadata": {
        "id": "0mXSg1niIx_4"
      },
      "execution_count": null,
      "outputs": []
    },
    {
      "cell_type": "markdown",
      "source": [
        "This cell can be used to check rate limits and reset time. Ads has a rate limit of 5000 calls per day so it is likely that searches will have to be split into subsets and performed over multiple days."
      ],
      "metadata": {
        "id": "xw0IcbfnWTTI"
      }
    },
    {
      "cell_type": "code",
      "source": [
        "q = (ads.SearchQuery(q='rate', fl=['citation_count']))\n",
        "r = ads.RateLimits('SearchQuery')\n",
        "q = ads.SearchQuery(q=q)\n",
        "for paper in q:\n",
        "    print(paper.title, paper.citation_count)\n",
        "r.limits"
      ],
      "metadata": {
        "id": "ibwK7pyWInca",
        "colab": {
          "base_uri": "https://localhost:8080/"
        },
        "outputId": "06aae6dc-8118-4ed4-a1f5-6d83c9064c89"
      },
      "execution_count": null,
      "outputs": [
        {
          "output_type": "execute_result",
          "data": {
            "text/plain": [
              "{'limit': '5000', 'remaining': '4998', 'reset': '1692022144'}"
            ]
          },
          "metadata": {},
          "execution_count": 14
        }
      ]
    },
    {
      "cell_type": "markdown",
      "source": [
        "####Searching for ML papers"
      ],
      "metadata": {
        "id": "gCTnKLu4GVcr"
      }
    },
    {
      "cell_type": "markdown",
      "source": [
        "**The dataframe might be larger than the rate limit (5000), if so, it will need to be split into subsets and carried out over multiple days.**"
      ],
      "metadata": {
        "id": "NkdNV3-xJt9j"
      }
    },
    {
      "cell_type": "markdown",
      "source": [
        "Search for the paper title in ads and return the citation count, adding it to the dataframe."
      ],
      "metadata": {
        "id": "gPvsmpnSWdZW"
      }
    },
    {
      "cell_type": "code",
      "source": [
        "query_res = [] #List to store results\n",
        "\n",
        "for index, row in svm_full_df.iterrows(): #Iterate over each row in DataFrame\n",
        "    searchstr = 'arxiv:' + str(row['id']) #Define the string to be used as search query\n",
        "    try:\n",
        "        q = list(ads.SearchQuery(q=searchstr, fl=['citation_count'])) #Search for the query and return only citation count entry to reduce number of requests\n",
        "        query_res.append(q[0].citation_count) #Add citation count to list\n",
        "    except:\n",
        "        query_res.append(None) #If the search failed add \"None\" to the list\n",
        "\n",
        "svm_full_df['citations'] = query_res #Create a new citations column with the results"
      ],
      "metadata": {
        "colab": {
          "base_uri": "https://localhost:8080/",
          "height": 53
        },
        "id": "8dUs5Ynt-Ium",
        "outputId": "d343e576-b831-4c41-beb2-7fb238a7fa5a"
      },
      "execution_count": null,
      "outputs": [
        {
          "output_type": "execute_result",
          "data": {
            "text/plain": [
              "\"\\nquery_res = []\\nfor index, row in svm_full_df.iterrows():\\n    searchstr = 'arxiv:' + str(row['id'])\\n    try:\\n        q = ads.SearchQuery(q=searchstr, fl=['citation_count'])\\n        for paper in q:\\n            query_res.append(paper.citation_count)\\n    except:\\n        query_res.append(None)\\n\\nsvm_full_df['citations'] = query_res\\n\""
            ],
            "application/vnd.google.colaboratory.intrinsic+json": {
              "type": "string"
            }
          },
          "metadata": {},
          "execution_count": 28
        }
      ]
    },
    {
      "cell_type": "markdown",
      "source": [
        "Save updated DataFrame."
      ],
      "metadata": {
        "id": "jFd8gpy42p7i"
      }
    },
    {
      "cell_type": "code",
      "source": [
        "svm_full_df.to_csv('svm_full_df.csv')"
      ],
      "metadata": {
        "id": "2pWu2CI--J51"
      },
      "execution_count": null,
      "outputs": []
    },
    {
      "cell_type": "markdown",
      "source": [
        "Sort the citations and put into new dataframe, creating a new column to normalise by the year published."
      ],
      "metadata": {
        "id": "QBlZSvYvWqPE"
      }
    },
    {
      "cell_type": "code",
      "source": [
        "citations_df = svm_full_df.sort_values(by=['citations'], ascending=False, inplace=False)\n",
        "citations_df['cite_norm'] = citations_df['citations']/(2024-citations_df['year'])\n",
        "citations_df.sort_values(by=['cite_norm'], ascending=False, inplace=True)\n",
        "citations_df.to_csv('citations_df.csv')"
      ],
      "metadata": {
        "id": "LZdVaz-ST5to"
      },
      "execution_count": null,
      "outputs": []
    },
    {
      "cell_type": "markdown",
      "source": [
        "####Non-ML papers"
      ],
      "metadata": {
        "id": "9GaCPAfXGl6_"
      }
    },
    {
      "cell_type": "markdown",
      "source": [
        "**The dataframe might be larger than the rate limit (5000), if so, it will need to be split into subsets and carried out over multiple days.**"
      ],
      "metadata": {
        "id": "gcIZTodsKI3V"
      }
    },
    {
      "cell_type": "markdown",
      "source": [
        "Take a stratified sample of all papers and preprocess it for searching."
      ],
      "metadata": {
        "id": "AQw1I_QHGs8I"
      }
    },
    {
      "cell_type": "code",
      "source": [
        "stratified_sample, _ = train_test_split(papers_df, train_size=0.0151791154, stratify=papers_df[['year']]) #Train size set as the number which results in the stratified sample being equal size to the svm results dataframe\n",
        "\n",
        "#Preprocessing same as for ML papers\n",
        "ids = []\n",
        "\n",
        "for index, row in stratified_sample.iterrows():\n",
        "    if type(row['id']) == float:\n",
        "        if (str(row['id']))[4] != '.':\n",
        "            ids.append(str(0) + str(row['id']))\n",
        "        else:\n",
        "            ids.append(str(row['id']))\n",
        "    elif type(row['id']) == str:\n",
        "        ids.append(str(row['id']))\n",
        "\n",
        "stratified_sample['id'] = ids"
      ],
      "metadata": {
        "id": "93OVcPiefUYs"
      },
      "execution_count": null,
      "outputs": []
    },
    {
      "cell_type": "code",
      "source": [
        "stratified_sample.to_csv('stratified_sample.csv')"
      ],
      "metadata": {
        "id": "_EKVG2FTf2a8"
      },
      "execution_count": null,
      "outputs": []
    },
    {
      "cell_type": "markdown",
      "source": [
        "Search and save results."
      ],
      "metadata": {
        "id": "fVVZISTWHRXH"
      }
    },
    {
      "cell_type": "code",
      "source": [
        "query_res = [] #List to store results\n",
        "\n",
        "for index, row in stratified_sample.iterrows(): #Iterate over each row in DataFrame\n",
        "    searchstr = 'arxiv:' + str(row['id']) #Define the string to be used as search query\n",
        "    try:\n",
        "        q = list(ads.SearchQuery(q=searchstr, fl=['citation_count'])) #Search for the query and return only citation count entry to reduce number of requests\n",
        "        query_res.append(q[0].citation_count) #Add citation count to list\n",
        "    except:\n",
        "        query_res.append(None) #If the search failed add \"None\" to the list\n",
        "\n",
        "stratified_sample['citations'] = query_res #Create a new citations column with the results"
      ],
      "metadata": {
        "id": "D-gnyiLDHIxy"
      },
      "execution_count": null,
      "outputs": []
    },
    {
      "cell_type": "code",
      "source": [
        "stratified_sample.to_csv('stratified_sample.csv')"
      ],
      "metadata": {
        "id": "4FU137BaHNbJ"
      },
      "execution_count": null,
      "outputs": []
    },
    {
      "cell_type": "markdown",
      "source": [
        "Create new dataframe, normalise and sort the results."
      ],
      "metadata": {
        "id": "2KHcUAi5H1Pq"
      }
    },
    {
      "cell_type": "code",
      "source": [
        "citations_nonml_df = stratified_sample.sort_values(by=['citations'], ascending=False, inplace=False)\n",
        "citations_nonml_df['cite_norm'] = citations_nonml_df['citations']/(2024-citations_nonml_df['year'])\n",
        "citations_nonml_df.sort_values(by=['cite_norm'], ascending=False, inplace=True)\n",
        "citations_nonml_df.to_csv('citations_nonml_df.csv')"
      ],
      "metadata": {
        "id": "DByP_luGHsUu"
      },
      "execution_count": null,
      "outputs": []
    },
    {
      "cell_type": "markdown",
      "source": [
        "####Processing results"
      ],
      "metadata": {
        "id": "KFDi1TO8HT1t"
      }
    },
    {
      "cell_type": "markdown",
      "source": [
        "Plot the distribution of yearly citation count."
      ],
      "metadata": {
        "id": "eYLKidHO9two"
      }
    },
    {
      "cell_type": "code",
      "source": [
        "f, ax = plt.subplots(1,2, figsize=(12, 6)) #Create figure\n",
        "\n",
        "#Set log scale\n",
        "ax[0].set_yscale('log', base=10)\n",
        "#Plot normalised citations for ML papers\n",
        "sns.histplot(citations_df.cite_norm, bins=25, fill=True, stat='count', ax=ax[0], color='blue')\n",
        "ax[0].set_title('ML papers')\n",
        "ax[0].set_xlabel('Citations per year')\n",
        "\n",
        "#Set log scale\n",
        "ax[1].set_yscale('log', base=10)\n",
        "#Plot normalised citations for Non-ML papers\n",
        "sns.histplot(citations_nonml_df.cite_norm, bins=25, fill=True, stat='count', ax=ax[1], color='blue')\n",
        "ax[1].set_title('Non-ML papers')\n",
        "ax[1].set_xlabel('Citations per year')\n",
        "\n",
        "f.suptitle('Count of paper\\'s number of citations per year')\n",
        "\n",
        "#Save plot as png\n",
        "plt.savefig('hyp4hist.png')\n",
        "#Display plot\n",
        "plt.show()"
      ],
      "metadata": {
        "colab": {
          "base_uri": "https://localhost:8080/",
          "height": 602
        },
        "id": "CKyIIyOXOtpm",
        "outputId": "66dc36f9-8e64-4954-df1d-21d2b30bb9b2"
      },
      "execution_count": null,
      "outputs": [
        {
          "output_type": "display_data",
          "data": {
            "text/plain": [
              "<Figure size 1200x600 with 2 Axes>"
            ],
            "image/png": "[encoded data removed]"
          },
          "metadata": {}
        }
      ]
    },
    {
      "cell_type": "markdown",
      "source": [
        "Take the top 10% of papers from ML and Non-ML dataframes."
      ],
      "metadata": {
        "id": "IQrslZWG96lS"
      }
    },
    {
      "cell_type": "code",
      "source": [
        "n = 10 #Percentage considered high impact\n",
        "high_impact_df = citations_df.head(int(len(citations_df)*(n/100))) #Take the first 10% of papers as prominent\n",
        "low_impact_df = pd.concat([citations_df,high_impact_df]).drop_duplicates(keep=False, subset=['id']) #Take the remainder as non prominent\n",
        "\n",
        "high_impact_nonml_df = citations_nonml_df.head(int(len(citations_nonml_df)*(n/100))) #Take the first 10% of papers as prominent\n",
        "low_impact_nonml_df = pd.concat([citations_nonml_df,high_impact_df]).drop_duplicates(keep=False, subset=['id']) #Take the remainder as non prominent"
      ],
      "metadata": {
        "id": "3z33WEsYccBL"
      },
      "execution_count": null,
      "outputs": []
    },
    {
      "cell_type": "markdown",
      "source": [
        "Get measures of the number of authors and add it to a dataframe to be viewed as a table."
      ],
      "metadata": {
        "id": "JY7botqT-AfB"
      }
    },
    {
      "cell_type": "code",
      "source": [
        "prominent = pd.DataFrame() #Create DataFrame\n",
        "\n",
        "#Calculate statistics for number of authors for each set and add to DataFrame\n",
        "prominent['ML +'] = high_impact_df['clean_authors'].str.len().agg(['mean','max','std','median'])\n",
        "prominent['ML -'] = low_impact_df['clean_authors'].str.len().agg(['mean','max','std','median'])\n",
        "prominent['NML +'] = high_impact_nonml_df['clean_authors'].str.len().agg(['mean','max','std','median'])\n",
        "prominent['NML -'] = low_impact_nonml_df['clean_authors'].str.len().agg(['mean','max','std','median'])\n",
        "\n",
        "#Transpose DataFrame\n",
        "prominent=prominent.transpose()"
      ],
      "metadata": {
        "id": "tR1ycZCZdDFs"
      },
      "execution_count": null,
      "outputs": []
    },
    {
      "cell_type": "code",
      "source": [
        "prominent"
      ],
      "metadata": {
        "colab": {
          "base_uri": "https://localhost:8080/",
          "height": 175
        },
        "id": "K9LhKFXhsIgM",
        "outputId": "fece7d4f-186f-4af8-a4db-22a3502ec862"
      },
      "execution_count": null,
      "outputs": [
        {
          "output_type": "execute_result",
          "data": {
            "text/plain": [
              "            mean     max        std  median\n",
              "ML +   15.589286   447.0  40.412649     6.0\n",
              "ML -    7.273155  1110.0  23.177903     4.0\n",
              "NML +  16.032323  1593.0  83.038714     4.0\n",
              "NML -   7.883302  1593.0  31.786393     4.0"
            ],
            "text/html": [
              "\n",
              "\n",
              "  <div id=\"df-acbda106-016e-4aa1-b46b-c8a71ad6b8ce\">\n",
              "    <div class=\"colab-df-container\">\n",
              "      <div>\n",
              "<style scoped>\n",
              "    .dataframe tbody tr th:only-of-type {\n",
              "        vertical-align: middle;\n",
              "    }\n",
              "\n",
              "    .dataframe tbody tr th {\n",
              "        vertical-align: top;\n",
              "    }\n",
              "\n",
              "    .dataframe thead th {\n",
              "        text-align: right;\n",
              "    }\n",
              "</style>\n",
              "<table border=\"1\" class=\"dataframe\">\n",
              "  <thead>\n",
              "    <tr style=\"text-align: right;\">\n",
              "      <th></th>\n",
              "      <th>mean</th>\n",
              "      <th>max</th>\n",
              "      <th>std</th>\n",
              "      <th>median</th>\n",
              "    </tr>\n",
              "  </thead>\n",
              "  <tbody>\n",
              "    <tr>\n",
              "      <th>ML +</th>\n",
              "      <td>15.589286</td>\n",
              "      <td>447.0</td>\n",
              "      <td>40.412649</td>\n",
              "      <td>6.0</td>\n",
              "    </tr>\n",
              "    <tr>\n",
              "      <th>ML -</th>\n",
              "      <td>7.273155</td>\n",
              "      <td>1110.0</td>\n",
              "      <td>23.177903</td>\n",
              "      <td>4.0</td>\n",
              "    </tr>\n",
              "    <tr>\n",
              "      <th>NML +</th>\n",
              "      <td>16.032323</td>\n",
              "      <td>1593.0</td>\n",
              "      <td>83.038714</td>\n",
              "      <td>4.0</td>\n",
              "    </tr>\n",
              "    <tr>\n",
              "      <th>NML -</th>\n",
              "      <td>7.883302</td>\n",
              "      <td>1593.0</td>\n",
              "      <td>31.786393</td>\n",
              "      <td>4.0</td>\n",
              "    </tr>\n",
              "  </tbody>\n",
              "</table>\n",
              "</div>\n",
              "      <button class=\"colab-df-convert\" onclick=\"convertToInteractive('df-acbda106-016e-4aa1-b46b-c8a71ad6b8ce')\"\n",
              "              title=\"Convert this dataframe to an interactive table.\"\n",
              "              style=\"display:none;\">\n",
              "\n",
              "  <svg xmlns=\"http://www.w3.org/2000/svg\" height=\"24px\"viewBox=\"0 0 24 24\"\n",
              "       width=\"24px\">\n",
              "    <path d=\"M0 0h24v24H0V0z\" fill=\"none\"/>\n",
              "    <path d=\"M18.56 5.44l.94 2.06.94-2.06 2.06-.94-2.06-.94-.94-2.06-.94 2.06-2.06.94zm-11 1L8.5 8.5l.94-2.06 2.06-.94-2.06-.94L8.5 2.5l-.94 2.06-2.06.94zm10 10l.94 2.06.94-2.06 2.06-.94-2.06-.94-.94-2.06-.94 2.06-2.06.94z\"/><path d=\"M17.41 7.96l-1.37-1.37c-.4-.4-.92-.59-1.43-.59-.52 0-1.04.2-1.43.59L10.3 9.45l-7.72 7.72c-.78.78-.78 2.05 0 2.83L4 21.41c.39.39.9.59 1.41.59.51 0 1.02-.2 1.41-.59l7.78-7.78 2.81-2.81c.8-.78.8-2.07 0-2.86zM5.41 20L4 18.59l7.72-7.72 1.47 1.35L5.41 20z\"/>\n",
              "  </svg>\n",
              "      </button>\n",
              "\n",
              "\n",
              "\n",
              "    <div id=\"df-788bac9d-2255-4927-85ab-29966389b8e5\">\n",
              "      <button class=\"colab-df-quickchart\" onclick=\"quickchart('df-788bac9d-2255-4927-85ab-29966389b8e5')\"\n",
              "              title=\"Suggest charts.\"\n",
              "              style=\"display:none;\">\n",
              "\n",
              "<svg xmlns=\"http://www.w3.org/2000/svg\" height=\"24px\"viewBox=\"0 0 24 24\"\n",
              "     width=\"24px\">\n",
              "    <g>\n",
              "        <path d=\"M19 3H5c-1.1 0-2 .9-2 2v14c0 1.1.9 2 2 2h14c1.1 0 2-.9 2-2V5c0-1.1-.9-2-2-2zM9 17H7v-7h2v7zm4 0h-2V7h2v10zm4 0h-2v-4h2v4z\"/>\n",
              "    </g>\n",
              "</svg>\n",
              "      </button>\n",
              "    </div>\n",
              "\n",
              "<style>\n",
              "  .colab-df-quickchart {\n",
              "    background-color: #E8F0FE;\n",
              "    border: none;\n",
              "    border-radius: 50%;\n",
              "    cursor: pointer;\n",
              "    display: none;\n",
              "    fill: #1967D2;\n",
              "    height: 32px;\n",
              "    padding: 0 0 0 0;\n",
              "    width: 32px;\n",
              "  }\n",
              "\n",
              "  .colab-df-quickchart:hover {\n",
              "    background-color: #E2EBFA;\n",
              "    box-shadow: 0px 1px 2px rgba(60, 64, 67, 0.3), 0px 1px 3px 1px rgba(60, 64, 67, 0.15);\n",
              "    fill: #174EA6;\n",
              "  }\n",
              "\n",
              "  [theme=dark] .colab-df-quickchart {\n",
              "    background-color: #3B4455;\n",
              "    fill: #D2E3FC;\n",
              "  }\n",
              "\n",
              "  [theme=dark] .colab-df-quickchart:hover {\n",
              "    background-color: #434B5C;\n",
              "    box-shadow: 0px 1px 3px 1px rgba(0, 0, 0, 0.15);\n",
              "    filter: drop-shadow(0px 1px 2px rgba(0, 0, 0, 0.3));\n",
              "    fill: #FFFFFF;\n",
              "  }\n",
              "</style>\n",
              "\n",
              "    <script>\n",
              "      async function quickchart(key) {\n",
              "        const containerElement = document.querySelector('#' + key);\n",
              "        const charts = await google.colab.kernel.invokeFunction(\n",
              "            'suggestCharts', [key], {});\n",
              "      }\n",
              "    </script>\n",
              "\n",
              "      <script>\n",
              "\n",
              "function displayQuickchartButton(domScope) {\n",
              "  let quickchartButtonEl =\n",
              "    domScope.querySelector('#df-788bac9d-2255-4927-85ab-29966389b8e5 button.colab-df-quickchart');\n",
              "  quickchartButtonEl.style.display =\n",
              "    google.colab.kernel.accessAllowed ? 'block' : 'none';\n",
              "}\n",
              "\n",
              "        displayQuickchartButton(document);\n",
              "      </script>\n",
              "      <style>\n",
              "    .colab-df-container {\n",
              "      display:flex;\n",
              "      flex-wrap:wrap;\n",
              "      gap: 12px;\n",
              "    }\n",
              "\n",
              "    .colab-df-convert {\n",
              "      background-color: #E8F0FE;\n",
              "      border: none;\n",
              "      border-radius: 50%;\n",
              "      cursor: pointer;\n",
              "      display: none;\n",
              "      fill: #1967D2;\n",
              "      height: 32px;\n",
              "      padding: 0 0 0 0;\n",
              "      width: 32px;\n",
              "    }\n",
              "\n",
              "    .colab-df-convert:hover {\n",
              "      background-color: #E2EBFA;\n",
              "      box-shadow: 0px 1px 2px rgba(60, 64, 67, 0.3), 0px 1px 3px 1px rgba(60, 64, 67, 0.15);\n",
              "      fill: #174EA6;\n",
              "    }\n",
              "\n",
              "    [theme=dark] .colab-df-convert {\n",
              "      background-color: #3B4455;\n",
              "      fill: #D2E3FC;\n",
              "    }\n",
              "\n",
              "    [theme=dark] .colab-df-convert:hover {\n",
              "      background-color: #434B5C;\n",
              "      box-shadow: 0px 1px 3px 1px rgba(0, 0, 0, 0.15);\n",
              "      filter: drop-shadow(0px 1px 2px rgba(0, 0, 0, 0.3));\n",
              "      fill: #FFFFFF;\n",
              "    }\n",
              "  </style>\n",
              "\n",
              "      <script>\n",
              "        const buttonEl =\n",
              "          document.querySelector('#df-acbda106-016e-4aa1-b46b-c8a71ad6b8ce button.colab-df-convert');\n",
              "        buttonEl.style.display =\n",
              "          google.colab.kernel.accessAllowed ? 'block' : 'none';\n",
              "\n",
              "        async function convertToInteractive(key) {\n",
              "          const element = document.querySelector('#df-acbda106-016e-4aa1-b46b-c8a71ad6b8ce');\n",
              "          const dataTable =\n",
              "            await google.colab.kernel.invokeFunction('convertToInteractive',\n",
              "                                                     [key], {});\n",
              "          if (!dataTable) return;\n",
              "\n",
              "          const docLinkHtml = 'Like what you see? Visit the ' +\n",
              "            '<a target=\"_blank\" href=https://colab.research.google.com/notebooks/data_table.ipynb>data table notebook</a>'\n",
              "            + ' to learn more about interactive tables.';\n",
              "          element.innerHTML = '';\n",
              "          dataTable['output_type'] = 'display_data';\n",
              "          await google.colab.output.renderOutput(dataTable, element);\n",
              "          const docLink = document.createElement('div');\n",
              "          docLink.innerHTML = docLinkHtml;\n",
              "          element.appendChild(docLink);\n",
              "        }\n",
              "      </script>\n",
              "    </div>\n",
              "  </div>\n"
            ]
          },
          "metadata": {},
          "execution_count": 29
        }
      ]
    },
    {
      "cell_type": "markdown",
      "source": [
        "--------------------------------------------------------------------------------------------------------------------"
      ],
      "metadata": {
        "id": "Lf0xhc2ZTRzJ"
      }
    },
    {
      "cell_type": "markdown",
      "source": [
        "###Hypothesis 4\n"
      ],
      "metadata": {
        "id": "pUG4ZMMgyIqN"
      }
    },
    {
      "cell_type": "code",
      "source": [
        "fig, axs = plt.subplots(1, 2, figsize = (12,6)) #Create figure\n",
        "\n",
        "#Plot line graph of annual values for each wave as total numbers\n",
        "axs[0].plot(svm_full_22_df.loc[svm_full_22_df['predicted'] == 'Wave1'].year.value_counts().sort_index(), label = 'First wave', linewidth=2)\n",
        "axs[0].plot(svm_full_22_df.loc[svm_full_22_df['predicted'] == 'Wave2'].year.value_counts().sort_index(), label = 'Second wave', linewidth=2)\n",
        "axs[0].plot(svm_full_22_df.loc[svm_full_22_df['predicted'] == 'Wave3'].year.value_counts().sort_index(), label = 'Third wave', linewidth=2)\n",
        "#Set matplotlib options\n",
        "axs[0].legend()\n",
        "axs[0].set_xlabel('Year')\n",
        "axs[0].set_ylabel('Total Papers')\n",
        "axs[0].set_title('Absolute numbers')\n",
        "axs[0].set_xticks(np.arange(1993, 2023, 5))\n",
        "axs[0].xaxis.set_minor_locator(MultipleLocator(1))\n",
        "axs[0].grid()\n",
        "\n",
        "#Plot line graph of annual values for each wave as a percentage of the total astrophysics papers that year\n",
        "axs[1].plot((svm_full_22_df.loc[svm_full_22_df['predicted'] == 'Wave1'].year.value_counts().sort_index()/papers_df['year'].value_counts().sort_index())*100, label = 'First wave', linewidth=2)\n",
        "axs[1].plot((svm_full_22_df.loc[svm_full_22_df['predicted'] == 'Wave2'].year.value_counts().sort_index()/papers_df['year'].value_counts().sort_index())*100, label = 'Second wave', linewidth=2)\n",
        "axs[1].plot((svm_full_22_df.loc[svm_full_22_df['predicted'] == 'Wave3'].year.value_counts().sort_index()/papers_df['year'].value_counts().sort_index())*100, label = 'Third wave', linewidth=2)\n",
        "#Set matplotlib options\n",
        "axs[1].legend()\n",
        "axs[1].set_xlabel('Year')\n",
        "axs[1].set_ylabel('Total Papers (%)')\n",
        "axs[1].set_title('Percentage of total astrophysics papers')\n",
        "axs[1].set_xticks(np.arange(1993, 2023, 5))\n",
        "axs[1].xaxis.set_minor_locator(MultipleLocator(1))\n",
        "axs[1].grid()\n",
        "\n",
        "#Auto format ticks\n",
        "fig.autofmt_xdate()\n",
        "fig.suptitle('Papers of each wave published annually')\n",
        "\n",
        "#Save plot as png, removing whitespace\n",
        "plt.savefig(\"hyp4.png\",bbox_inches='tight', dpi=400)\n",
        "#Display plot\n",
        "plt.show()"
      ],
      "metadata": {
        "colab": {
          "base_uri": "https://localhost:8080/",
          "height": 575
        },
        "id": "KTNj1eFyRZwS",
        "outputId": "566a05f8-c39a-4ab5-f3f9-d6fc00f480d0"
      },
      "execution_count": null,
      "outputs": [
        {
          "output_type": "display_data",
          "data": {
            "text/plain": [
              "<Figure size 1200x600 with 2 Axes>"
            ],
            "image/png": "[encoded data removed]"
          },
          "metadata": {}
        }
      ]
    }
  ]
}